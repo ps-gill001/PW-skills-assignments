{
 "cells": [
  {
   "cell_type": "markdown",
   "id": "d8635b32-6101-449a-bea3-7bbb072d497d",
   "metadata": {},
   "source": [
    "Q1. Which keyword is used to create a function? Create a function to return a list of odd numbers in the\n",
    "range of 1 to 25.\n"
   ]
  },
  {
   "cell_type": "code",
   "execution_count": 1,
   "id": "07aa4bb5-18d7-4dd6-97a2-133dbb221a0c",
   "metadata": {},
   "outputs": [
    {
     "name": "stdout",
     "output_type": "stream",
     "text": [
      "1\n",
      "3\n",
      "5\n",
      "7\n",
      "9\n",
      "11\n",
      "13\n",
      "15\n",
      "17\n",
      "19\n",
      "21\n",
      "23\n",
      "25\n",
      "None\n"
     ]
    }
   ],
   "source": [
    "#Ans: def Keyword is used to create a function. \n",
    "\n",
    "num = list(range(26))\n",
    "\n",
    "def fun(n):\n",
    "    for x in n:\n",
    "        if x%2 !=0:\n",
    "            print(x)\n",
    "\n",
    "print(fun(num))"
   ]
  },
  {
   "cell_type": "code",
   "execution_count": 4,
   "id": "821147be-3298-45c9-9b2d-68358157c285",
   "metadata": {},
   "outputs": [
    {
     "name": "stdin",
     "output_type": "stream",
     "text": [
      "enter the number: 25\n"
     ]
    },
    {
     "name": "stdout",
     "output_type": "stream",
     "text": [
      "1\n",
      "3\n",
      "5\n",
      "7\n",
      "9\n",
      "11\n",
      "13\n",
      "15\n",
      "17\n",
      "19\n",
      "21\n",
      "23\n",
      "25\n",
      "None\n"
     ]
    }
   ],
   "source": [
    "num = int(input(\"enter the number:\"))\n",
    "def fun(n):\n",
    "    for x in range(n+1):\n",
    "        if x%2 !=0:\n",
    "            print(x)\n",
    "\n",
    "print(fun(num))"
   ]
  },
  {
   "cell_type": "markdown",
   "id": "1b304aa9-9538-42f2-8fa9-13e63c0a9cbf",
   "metadata": {},
   "source": [
    "Q2. Why *args and **kwargs is used in some functions? Create a function each for *args and **kwargs to\n",
    "demonstrate their use."
   ]
  },
  {
   "cell_type": "code",
   "execution_count": 13,
   "id": "d4c9a0cd-f356-4fd3-a773-43b366ed203d",
   "metadata": {},
   "outputs": [
    {
     "name": "stdout",
     "output_type": "stream",
     "text": [
      "119\n"
     ]
    }
   ],
   "source": [
    "'''Ans: *args is used to pass variable no. of arguments without giving speciefic range. it is used tpo pass arguments\n",
    "as a list. **kwargs is used to pass arguments as a dictionary'''\n",
    " \n",
    "    \n",
    "def fun(i,*args,**kwargs):\n",
    "    x = i\n",
    "    for arg in args:\n",
    "        x += arg\n",
    "    for key in kwargs:\n",
    "        x += kwargs[key]\n",
    "    return x\n",
    "\n",
    "print(fun(4, 4, 5, 6, apple=60, banana=40))\n",
    "    \n",
    "\n"
   ]
  },
  {
   "cell_type": "markdown",
   "id": "2ca46d26-9750-4343-a173-9645fdb885fc",
   "metadata": {},
   "source": [
    "Q3. What is an iterator in python? Name the method used to initialise the iterator object and the method\n",
    "used for iteration. Use these methods to print the first five elements of the given list [2, 4, 6, 8, 10, 12, 14, 16,\n",
    "18, 20]."
   ]
  },
  {
   "cell_type": "markdown",
   "id": "f4b0a3ba-e6e3-487a-a0b3-a16d6164c292",
   "metadata": {},
   "source": [
    " An **iterable** is an object that has an __iter__ method which returns an iterator, or defines a __getitem__ method that can take sequential indexes starting from zero. So an iterable is an object that you can get an iterator.\n",
    "\n",
    " An **iterator** is an object with a next (Python 2) or __next__ (Python 3) method.\n",
    "\n",
    " Whenever you use a 'for' loop, or map, or a list comprehension, etc., in Python, the next method is called automatically to get each item from the iterator, thus going through the process of iteration.\n"
   ]
  },
  {
   "cell_type": "code",
   "execution_count": 14,
   "id": "1eb89903-a434-4be3-a5bf-16568586b75c",
   "metadata": {},
   "outputs": [
    {
     "name": "stdout",
     "output_type": "stream",
     "text": [
      "2\n",
      "4\n",
      "6\n",
      "8\n",
      "10\n"
     ]
    }
   ],
   "source": [
    "list1 = [2,4,6,8,10,12,14,16,18,20]\n",
    "list_iter = iter(list1)\n",
    "for i in range(5):\n",
    "    print(next(list_iter))"
   ]
  },
  {
   "cell_type": "markdown",
   "id": "9ca115ac-5ce5-46ea-b1eb-244da3ef75e4",
   "metadata": {},
   "source": [
    "Q4. What is a generator function in python? Why yield keyword is used? Give an example of a generator\n",
    "function."
   ]
  },
  {
   "cell_type": "markdown",
   "id": "a2c230f4-8c8a-4912-b475-5a7a01695595",
   "metadata": {},
   "source": [
    "A generator is a function that produces or yields a sequence of values using 'yield' method.\n",
    "\n",
    "When a generator function is called, it returns a generator object without even beginning execution of the function. When the next( ) method is called for the first time, the function starts executing until it reaches the yield statement, which returns the yielded value. The yield keeps track i.e., remembers the last execution and the second next( ) call continues from previous value.\n"
   ]
  },
  {
   "cell_type": "code",
   "execution_count": 8,
   "id": "1720d24b-a6bc-4656-9636-3b7d68325847",
   "metadata": {},
   "outputs": [
    {
     "name": "stdout",
     "output_type": "stream",
     "text": [
      "<generator object fib at 0x7fcf53165af0>\n",
      "0\n",
      "1\n",
      "1\n",
      "2\n",
      "3\n"
     ]
    }
   ],
   "source": [
    "def fib(limit): \n",
    "      \n",
    "    # Initialize first two Fibonacci Numbers  \n",
    "    a, b = 0, 1\n",
    "  \n",
    "    # One by one yield next Fibonacci Number \n",
    "    while a < limit: \n",
    "        yield a \n",
    "        a, b = b, a + b \n",
    "\n",
    "\n",
    "# Create a generator object \n",
    "x = fib(5) \n",
    "print(x)\n",
    "while True:\n",
    "   try:\n",
    "      print (next(x), end = \"\\n\")\n",
    "   except StopIteration:\n",
    "      break\n"
   ]
  },
  {
   "cell_type": "markdown",
   "id": "7a80eb38-13cb-4b2d-9212-5a349f84b104",
   "metadata": {},
   "source": [
    "Create a generator function for prime numbers less than 1000. Use the next() method to print the\n",
    "first 20 prime numbers."
   ]
  },
  {
   "cell_type": "code",
   "execution_count": 18,
   "id": "f6e7052c-b95d-416e-9faa-63e1c40bb4cf",
   "metadata": {},
   "outputs": [
    {
     "name": "stdout",
     "output_type": "stream",
     "text": [
      "3\n",
      "5\n",
      "7\n",
      "11\n",
      "13\n",
      "17\n",
      "19\n",
      "23\n",
      "29\n",
      "31\n",
      "37\n",
      "41\n",
      "43\n",
      "47\n",
      "53\n",
      "59\n",
      "61\n",
      "67\n",
      "71\n",
      "73\n"
     ]
    }
   ],
   "source": [
    "def prm():\n",
    "    primes= []\n",
    "    num = 3\n",
    "    while num< 1000:\n",
    "        is_prime =True\n",
    "        for prime in primes:\n",
    "            if num% prime == 0:\n",
    "                is_prime = False\n",
    "                break\n",
    "        if is_prime:\n",
    "            primes.append(num)\n",
    "            yield num\n",
    "        num = num + 2\n",
    "prime_gen = prm()\n",
    "\n",
    "for x in range(20):\n",
    "    print(next(prime_gen))"
   ]
  },
  {
   "cell_type": "code",
   "execution_count": 16,
   "id": "451a7ca8-c133-44ec-a315-73d5a7169cd7",
   "metadata": {},
   "outputs": [
    {
     "name": "stdout",
     "output_type": "stream",
     "text": [
      "3\n",
      "5\n",
      "7\n",
      "11\n",
      "13\n",
      "17\n",
      "19\n",
      "23\n",
      "29\n",
      "31\n",
      "37\n",
      "41\n",
      "43\n",
      "47\n",
      "53\n",
      "59\n",
      "61\n",
      "67\n",
      "71\n",
      "73\n"
     ]
    }
   ],
   "source": [
    "def prime_generator():\n",
    "    primes = []\n",
    "    num = 3\n",
    "    while num < 1000:\n",
    "        is_prime = True\n",
    "        for prime in primes:\n",
    "            if num % prime == 0:\n",
    "                is_prime = False\n",
    "                break\n",
    "        if is_prime:\n",
    "            primes.append(num)\n",
    "            yield num\n",
    "        num += 2\n",
    "\n",
    "prime_gen = prime_generator()\n",
    "\n",
    "for _ in range(20):\n",
    "    print(next(prime_gen))"
   ]
  },
  {
   "cell_type": "code",
   "execution_count": null,
   "id": "4333ca94-1809-4c82-913e-79445281e95b",
   "metadata": {},
   "outputs": [],
   "source": []
  }
 ],
 "metadata": {
  "kernelspec": {
   "display_name": "Python 3 (ipykernel)",
   "language": "python",
   "name": "python3"
  },
  "language_info": {
   "codemirror_mode": {
    "name": "ipython",
    "version": 3
   },
   "file_extension": ".py",
   "mimetype": "text/x-python",
   "name": "python",
   "nbconvert_exporter": "python",
   "pygments_lexer": "ipython3",
   "version": "3.10.8"
  }
 },
 "nbformat": 4,
 "nbformat_minor": 5
}
