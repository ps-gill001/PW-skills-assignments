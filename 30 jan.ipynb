{
 "cells": [
  {
   "cell_type": "code",
   "execution_count": 3,
   "id": "a30141b2-cdea-42dc-8776-9ad15fd9b1b1",
   "metadata": {},
   "outputs": [
    {
     "name": "stdin",
     "output_type": "stream",
     "text": [
      "Enter the marks: 90\n"
     ]
    },
    {
     "name": "stdout",
     "output_type": "stream",
     "text": [
      "Grade: B\n"
     ]
    }
   ],
   "source": [
    "#1.write the program to accept the percentage from user and give grades accordingly.\n",
    "\n",
    "marks = int(input(\"Enter the marks:\"))\n",
    "if marks > 90:\n",
    "    print(\" Grade : A\")\n",
    "elif marks > 80 and marks <= 90:\n",
    "    print(\"Grade: B\")\n",
    "elif marks >= 60 and marks <= 80:\n",
    "    print(\"Grade: C\")\n",
    "else:\n",
    "    print(\"Grade: D\")"
   ]
  },
  {
   "cell_type": "code",
   "execution_count": 5,
   "id": "2446708a-d589-411b-a359-8d3e02f3e077",
   "metadata": {},
   "outputs": [
    {
     "name": "stdin",
     "output_type": "stream",
     "text": [
      "Enter the price: 100000\n"
     ]
    },
    {
     "name": "stdout",
     "output_type": "stream",
     "text": [
      "10000.0\n"
     ]
    }
   ],
   "source": [
    "cost_price = int(input(\"Enter the price:\"))\n",
    "tax = 0\n",
    "if cost_price <= 50000:\n",
    "    tax = cost_price * 0.05\n",
    "    print(tax)\n",
    "elif cost_price > 50000 and cost_price <= 100000:\n",
    "    tax = cost_price * 0.10\n",
    "    print(tax)\n",
    "else: \n",
    "    tax = cost_price * 0.15\n",
    "    print(tax)\n"
   ]
  },
  {
   "cell_type": "code",
   "execution_count": 7,
   "id": "1dfe42ba-f54b-4a39-9b26-459dd1a1967f",
   "metadata": {},
   "outputs": [
    {
     "name": "stdin",
     "output_type": "stream",
     "text": [
      "Enter city Name: Delhi\n"
     ]
    },
    {
     "name": "stdout",
     "output_type": "stream",
     "text": [
      "monument is Red Fort\n"
     ]
    }
   ],
   "source": [
    "city = input(\"Enter city Name:\")\n",
    "if city == \"Delhi\":\n",
    "    print(\"monument is Red Fort\")\n",
    "elif city == \"Agra\":\n",
    "    print(\"monument is Taj Mahal\")\n",
    "elif city == \"Jaipur\":\n",
    "    print(\"monument is Jal Mahal\")"
   ]
  },
  {
   "cell_type": "code",
   "execution_count": 3,
   "id": "52c324cc-31f0-4860-8190-47a32f3b7c22",
   "metadata": {},
   "outputs": [
    {
     "name": "stdout",
     "output_type": "stream",
     "text": [
      "The number 81 can be divided by 3 2 times before it becomes less than or equal to 10.\n"
     ]
    }
   ],
   "source": [
    "#Check How many times a number can be divided by 3 before it becomes less than or equal to 10\n",
    "\n",
    "\n",
    "def divide_by_three(num):\n",
    "    count = 0\n",
    "    while num > 10:\n",
    "        num /= 3\n",
    "        count += 1\n",
    "    return count\n",
    "\n",
    "number = 81\n",
    "result = divide_by_three(number)\n",
    "print(f\"The number {number} can be divided by 3 is {result} times before it becomes less than or equal to 10.\")"
   ]
  },
  {
   "cell_type": "markdown",
   "id": "b01770b2-9c2b-48d2-b6c0-b6941b90cd46",
   "metadata": {},
   "source": [
    "#5.why and when to use while loop in python give a detailed description with example.\n",
    "\n",
    "The `while` loop in Python is used when you want to execute a block of code repeatedly as long as a specified condition is true. It is particularly useful when the number of iterations is not known beforehand and depends on a certain condition.\n",
    "\n",
    "Here is a detailed description of why and when to use a `while` loop in Python:\n",
    "\n",
    "1. **When the number of iterations is unknown**: If you are unsure about the number of times you need to iterate over a block of code, a `while` loop is a good choice. You can continue executing the loop until a specific condition is met.\n",
    "\n",
    "2. **Dynamic conditions**: `while` loops are suitable when the condition for loop termination is dynamic and may change during the execution of the loop.\n",
    "\n",
    "3. **Iterating over sequences**: While `for` loops are commonly used for iterating over sequences like lists, tuples, or strings, `while` loops are more appropriate when the iteration depends on a condition other than the sequence length.\n",
    "\n",
    " Let's consider an example where we want to print numbers from 1 to 5 using a `while` loop:\n",
    "\n",
    "   ```python\n",
    "   num = 1\n",
    "   while num <= 5:\n",
    "       print(num)\n",
    "       num += 1\n",
    "   ```\n",
    "\n",
    "   In this example, the loop continues to execute as long as the `num` variable is less than or equal to 5. The `num += 1` statement increments the value of `num` in each iteration. Once `num` becomes 6, the condition `num <= 5` becomes false, and the loop terminates.\n"
   ]
  },
  {
   "cell_type": "code",
   "execution_count": null,
   "id": "5c521301-6982-493c-b1e8-0ffda7145e64",
   "metadata": {},
   "outputs": [],
   "source": []
  }
 ],
 "metadata": {
  "kernelspec": {
   "display_name": "Python 3 (ipykernel)",
   "language": "python",
   "name": "python3"
  },
  "language_info": {
   "codemirror_mode": {
    "name": "ipython",
    "version": 3
   },
   "file_extension": ".py",
   "mimetype": "text/x-python",
   "name": "python",
   "nbconvert_exporter": "python",
   "pygments_lexer": "ipython3",
   "version": "3.10.8"
  }
 },
 "nbformat": 4,
 "nbformat_minor": 5
}
