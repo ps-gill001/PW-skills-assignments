{
 "cells": [
  {
   "cell_type": "code",
   "execution_count": null,
   "id": "099c57f4-0ea1-41db-bb92-baf7438ea4ef",
   "metadata": {},
   "outputs": [],
   "source": [
    "Q1. What is Flask Framework? What are the advantages of Flask Framework?\n",
    "Flask Framework:\n",
    "Flask is a lightweight and flexible web framework for Python, based on the WSGI (Web Server Gateway Interface) toolkit and Jinja2 template engine. It is designed to make getting started with web development quick and easy, with the ability to scale up to complex applications.\n",
    "\n",
    "Advantages of Flask:\n",
    "\n",
    "Lightweight: Minimalistic and simple, allowing developers to add only what they need.\n",
    "Flexible: Highly flexible with a modular design that makes it easy to customize.\n",
    "Extensible: Numerous extensions are available to add functionality such as database integration, form handling, and authentication.\n",
    "Easy to Learn: Simple and straightforward, making it a great choice for beginners.\n",
    "Built-in Development Server: Comes with a built-in server for development and testing.\n",
    "Integrated Support for Unit Testing: Simplifies the process of testing your applications.\n",
    "RESTful Request Dispatching: Built-in support for creating RESTful APIs.\n"
   ]
  },
  {
   "cell_type": "code",
   "execution_count": null,
   "id": "80249fbe-449e-4b6e-878b-77fe14b55158",
   "metadata": {},
   "outputs": [],
   "source": [
    "'''Q2. Simple Flask Application to Display ‘Hello World!!’\n",
    "Here is a simple Flask application that displays 'Hello World!!'.\n",
    "\n",
    "app.py:'''\n",
    "\n",
    "from flask import Flask\n",
    "\n",
    "app = Flask(__name__)\n",
    "\n",
    "@app.route('/')\n",
    "def hello_world():\n",
    "    return 'Hello World!!'\n",
    "\n",
    "if __name__ == '__main__':\n",
    "    app.run(debug=True)\n",
    "\n"
   ]
  },
  {
   "cell_type": "code",
   "execution_count": null,
   "id": "2f6880fd-1f93-445a-9cb5-6c84bc9ebcc9",
   "metadata": {},
   "outputs": [],
   "source": [
    "Q3. What is App Routing in Flask? Why Do We Use App Routes?\n",
    "App Routing:\n",
    "App routing in Flask is the process of mapping URLs to functions in your Flask application. The @app.route decorator is used to bind a URL to a specific function that handles the logic for that URL.\n",
    "\n",
    "Why Use App Routes:\n",
    "\n",
    "Organizes Code: Helps in organizing your code by associating URLs with specific functions.\n",
    "Handles Requests: Defines how different URLs should be handled and what response should be sent back to the client.\n",
    "Creates RESTful APIs: Facilitates the creation of RESTful APIs by mapping URLs to various HTTP methods (GET, POST, PUT, DELETE)."
   ]
  },
  {
   "cell_type": "code",
   "execution_count": null,
   "id": "29b77127-b183-48c0-aae9-eeed13e8197a",
   "metadata": {},
   "outputs": [],
   "source": [
    "'''Q4. Create Routes to Display Welcome Message and Company Details\n",
    "app.py:'''\n",
    "\n",
    "from flask import Flask\n",
    "\n",
    "app = Flask(__name__)\n",
    "\n",
    "@app.route('/')\n",
    "def company_details():\n",
    "    return \"\"\"\n",
    "    Company Name: ABC Corporation<br>\n",
    "    Location: India<br>\n",
    "    Contact Detail: 999-999-9999\n",
    "    \"\"\"\n",
    "\n",
    "@app.route('/welcome')\n",
    "def welcome():\n",
    "    return \"Welcome to ABC Corporation\"\n",
    "\n",
    "if __name__ == '__main__':\n",
    "    app.run(debug=True)\n"
   ]
  },
  {
   "cell_type": "code",
   "execution_count": null,
   "id": "32767110-32de-4f5e-8d57-9a85b989efcf",
   "metadata": {},
   "outputs": [],
   "source": [
    "'''Q5. URL Building with url_for()\n",
    "Function for URL Building:\n",
    "In Flask, the url_for() function is used to build URLs for specific functions dynamically. This is useful for generating URLs without hardcoding them, which makes your code more maintainable.\n",
    "\n",
    "Example Code:'''\n",
    "\n",
    "from flask import Flask, url_for\n",
    "\n",
    "app = Flask(__name__)\n",
    "\n",
    "@app.route('/')\n",
    "def index():\n",
    "    return 'Index Page'\n",
    "\n",
    "@app.route('/welcome')\n",
    "def welcome():\n",
    "    return 'Welcome Page'\n",
    "\n",
    "@app.route('/user/<username>')\n",
    "def show_user_profile(username):\n",
    "    return f'User {username}'\n",
    "\n",
    "if __name__ == '__main__':\n",
    "    with app.test_request_context():\n",
    "        print(url_for('index'))  # Output: /\n",
    "        print(url_for('welcome'))  # Output: /welcome\n",
    "        print(url_for('show_user_profile', username='john_doe'))  # Output: /user/john_doe\n",
    "\n",
    "    app.run(debug=True)\n"
   ]
  }
 ],
 "metadata": {
  "kernelspec": {
   "display_name": "Python 3 (ipykernel)",
   "language": "python",
   "name": "python3"
  },
  "language_info": {
   "codemirror_mode": {
    "name": "ipython",
    "version": 3
   },
   "file_extension": ".py",
   "mimetype": "text/x-python",
   "name": "python",
   "nbconvert_exporter": "python",
   "pygments_lexer": "ipython3",
   "version": "3.10.8"
  }
 },
 "nbformat": 4,
 "nbformat_minor": 5
}
