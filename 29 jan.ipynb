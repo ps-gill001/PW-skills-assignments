{
 "cells": [
  {
   "cell_type": "markdown",
   "id": "62864553-601b-4db6-9c9a-ae13ee11a1bc",
   "metadata": {},
   "source": [
    "who developed python programming language.\n",
    "\n",
    "Ans:Guido van Rossum developed the Python programming language.\n",
    "\n",
    "Van Rossum, a Dutch programmer, started working on Python in the late 1980s at the National Research Institute for Mathematics and Computer Science in the Netherlands. His goal was to create a language that was easy to read and write, with a focus on code readability and simplicity. Van Rossum named the language \"Python\" after the British comedy group Monty Python, as he was a fan of their work.\n",
    "\n",
    "Python was first released to the public in 1991, and since then, it has grown to become one of the most popular and widely-used programming languages in the world. Van Rossum served as the \"Benevolent Dictator for Life\" (BDFL) of the Python project until 2018, when he stepped down from that role, though he continues to be actively involved in the development and evolution of the Python language"
   ]
  },
  {
   "cell_type": "markdown",
   "id": "3ce81a85-3337-4c44-b454-7b540e324714",
   "metadata": {},
   "source": [
    "2.which type of programming does python support\n",
    "\n",
    "ans: Python is a multi-paradigm programming language, meaning it supports various programming paradigms. The main programming paradigms that Python supports are:\n",
    "\n",
    "1. Procedural Programming: Python allows you to write code in a procedural style, where you define a series of steps or procedures to solve a problem.\n",
    "\n",
    "2. Object-Oriented Programming (OOP): Python is a fully-fledged object-oriented programming language, supporting features like classes, inheritance, polymorphism, and encapsulation.\n",
    "\n",
    "3. Functional Programming: Python has many features that support functional programming, such as lambda functions, map(), filter(), and reduce().\n",
    "\n",
    "4. Scripting: Python is widely used as a scripting language, allowing you to write scripts to automate various tasks and workflows.\n",
    "\n",
    "Python's versatility and support for multiple programming paradigms make it a popular choice for a wide range of applications, from web development and data analysis to machine learning and scientific computing.\n"
   ]
  },
  {
   "cell_type": "markdown",
   "id": "5d127e7a-0b14-4d2a-a9cc-bf424509e91d",
   "metadata": {},
   "source": [
    "3. Is python case sensitive dealing with identifiers?\n",
    "\n",
    "Ans: Yes, Python is case-sensitive when dealing with identifiers. In Python, the names of variables, functions, classes, and other identifiers are case-sensitive. This means that \"myVariable\", \"MyVariable\", and \"myvariable\" are all considered different identifiers in Python"
   ]
  },
  {
   "cell_type": "markdown",
   "id": "dfa48a60-6ece-4a27-b4d2-0d273da1bb63",
   "metadata": {},
   "source": [
    "4 what is correct extension of python file?\n",
    "\n",
    "Ans: Extension- .py "
   ]
  },
  {
   "cell_type": "markdown",
   "id": "82547fc9-d3f6-49a8-8c6f-cc8707ec88d0",
   "metadata": {},
   "source": [
    "Is python code compiled or interpreted \n",
    "\n",
    "Ans: Python is an interpreted programming language, not a compiled language.\n",
    "\n",
    "In an interpreted language like Python, the source code is executed line by line by an interpreter, which translates and runs the code directly. The interpreter reads the Python code, analyzes it, and then executes the instructions immediately, without the need for a separate compilation step.\n",
    "\n",
    "This is in contrast to compiled languages, where the source code is first translated into a low-level machine-readable format (called object code or bytecode) by a compiler, and then the compiled code is executed by the computer's processor.\n",
    "\n",
    "The interpreted nature of Python provides several advantages, such as:\n",
    "\n",
    "1. Faster development and testing cycles, as you can run and debug your code immediately without the need for a separate compilation step.\n",
    "2. Increased flexibility, as you can modify and run your code on the fly without recompiling.\n",
    "3. Easier portability, as the interpreter can run on different operating systems without the need for recompilation.\n",
    "\n",
    "However, the interpreted nature of Python can also result in slightly slower runtime performance compared to compiled languages, as the interpreter needs to analyze and execute the code at runtime"
   ]
  },
  {
   "cell_type": "markdown",
   "id": "af994b54-68e1-479a-bfc2-83b5bf1ea39f",
   "metadata": {},
   "source": [
    "6. Name few blocks of codes used to define python language?\n",
    "\n",
    "Ans: The main blocks of code used to define the Python programming language are:\n",
    "\n",
    "1. Functions: Python functions are defined using the `def` keyword and can accept parameters and return values.\n",
    "\n",
    "2. Loops: Python provides several types of loops, including `for` loops and `while` loops, which allow you to repeatedly execute a block of code.\n",
    "\n",
    "3. Conditional Statements: Python's conditional statements, such as `if-elif-else`, enable you to execute different blocks of code based on specific conditions.\n",
    "\n",
    "4. Classes: Python supports object-oriented programming (OOP) through the use of classes, which define the structure and behavior of objects.\n",
    "\n",
    "5. Modules/Packages: Python's module system allows you to organize and group related code, making it easier to manage and reuse code across different parts of a program.\n",
    "\n",
    "6. Comments: Python supports both single-line comments (using the `#` symbol) and multi-line comments (using triple quotes, `\"\"\"` or `'''`)"
   ]
  },
  {
   "cell_type": "markdown",
   "id": "bbc698ea-b82c-46ed-bb90-c5fdc2470b87",
   "metadata": {},
   "source": [
    "7 State a character used to give single line comment?\n",
    "\n",
    "Ans: #"
   ]
  },
  {
   "cell_type": "markdown",
   "id": "ac991a19-9e80-47fc-bf3e-28a29315a905",
   "metadata": {},
   "source": [
    "8. Mention function which can help us to find the version of python we are currently using?\n",
    "\n",
    "Ans: To find the version of Python you are currently using, you can use the `sys.version` function in Python."
   ]
  },
  {
   "cell_type": "markdown",
   "id": "9b3c9e67-0792-48c3-85c2-0de5db35ecb0",
   "metadata": {},
   "source": [
    "9. Python supports the creation of anonymous function at a run time, using contruct called___\n",
    "\n",
    "Ans: lambda"
   ]
  },
  {
   "cell_type": "markdown",
   "id": "d2f86b13-ac18-4430-89eb-1edcb98cfbc9",
   "metadata": {},
   "source": [
    "10. what does pip stand for in python\n",
    "\n",
    "Ans: Pip: Python Install Packages"
   ]
  },
  {
   "cell_type": "markdown",
   "id": "6d561ba7-8ecd-42a1-94c0-668d04ea194a",
   "metadata": {},
   "source": [
    "11. Mention a few built in function in python\n",
    "\n",
    "Ans:1. Print()\n",
    "2. len()\n",
    "3. type()\n",
    "4. input()\n",
    "5. min()\n",
    "6. round()\n",
    "7. range()\n",
    "8. sum()"
   ]
  },
  {
   "cell_type": "markdown",
   "id": "911f3781-5f4a-460f-9cd8-20ef396a1b75",
   "metadata": {},
   "source": [
    "12. What is the maximum possible length of a identifier in python?\n",
    "\n",
    "Ans: According to the latest message, which I will give more importance to, the maximum possible length of an identifier in Python is not explicitly defined in the language specification. However, there are some general guidelines and practical considerations:\n",
    "\n",
    "The Python language reference states that an identifier can be of any length, but some external factors may impose limits:\n",
    "\n",
    "1. The operating system and file system: Some file systems may have restrictions on the maximum length of file names, which could indirectly affect the maximum length of identifiers in Python code.\n",
    "\n",
    "2. Memory and performance considerations: While Python doesn't have a hard limit on identifier length, using extremely long identifiers may have an impact on memory usage and performance, especially in large codebases. As a general best practice, it's recommended to keep identifiers reasonably short and descriptive.\n",
    "\n",
    "3. PEP 8 (Python's style guide): PEP 8 recommends keeping variable names concise and descriptive, typically between 4 and 40 characters. It also suggests using descriptive names rather than overly long ones.\n",
    "\n",
    "In practice, most Python developers follow the PEP 8 guidelines and keep their identifiers, such as variable names, function names, and class names, within a reasonable length, usually not exceeding 79 characters. This helps maintain code readability and maintainability.\n",
    "\n",
    "So, while Python doesn't have a strict maximum length for identifiers, it's generally recommended to keep them concise and follow the community's best practices, as outlined in PEP 8 and other Python style guides."
   ]
  },
  {
   "cell_type": "markdown",
   "id": "baf8fb21-e323-44dc-af53-b1993716bee1",
   "metadata": {},
   "source": [
    "13. what are the benefits of using python?\n",
    "\n",
    "Ans: Python is a popular programming language that offers several benefits, making it a widely-used choice for a variety of applications. Here are some of the key benefits of using Python:\n",
    "\n",
    "1. Readability and Simplicity: Python has a clean, readable syntax that emphasizes code readability, making it easy to learn and understand, especially for beginners\n",
    "\n",
    "2. Versatility: Python is a general-purpose language that can be used for a wide range of applications, including web development, data analysis, machine learning, scientific computing, automation, and more.\n",
    "\n",
    "3. Cross-platform Compatibility: Python code can run on multiple operating systems, including Windows, macOS, and Linux, making it a versatile choice for developers.\n",
    "\n",
    "4. Extensive Standard Library: Python comes with a vast standard library that provides a wide range of functionality, reducing the need to write boilerplate code or rely on external libraries.\n",
    "\n",
    "5. Large and Active Community: Python has a large and active community of developers who contribute to the language, create and maintain libraries, and provide support and resources.\n",
    "\n",
    "6. Rapid Prototyping: Python's simplicity and readability allow for rapid prototyping, making it easier to quickly test and iterate on ideas.\n",
    "\n",
    "7. Scalability: Python can handle large-scale projects and can be used to build robust, enterprise-level applications.\n",
    "\n",
    "8. Data Science and Machine Learning: Python has become a popular choice for data science and machine learning, with a rich ecosystem of libraries like NumPy, Pandas, and TensorFlow.\n",
    "\n",
    "9. Automation and Scripting: Python's simplicity and versatility make it a great choice for automating tasks and writing scripts to improve productivity.\n",
    "\n",
    "10. Portability: Python code can be easily ported to different platforms, making it a good choice for cross-platform development.\n",
    "\n",
    "These benefits, along with Python's continuous development and the growing demand for Python skills in the job market, have contributed to its widespread adoption and popularity among developers and organizations\n"
   ]
  },
  {
   "cell_type": "markdown",
   "id": "ee29febe-76b9-4a7c-b749-fa10b3d80901",
   "metadata": {},
   "source": [
    "14. How is memory managed in Python?\n",
    "\n",
    "Ans: In Python, memory management is handled automatically through a combination of techniques, including reference counting and a garbage collector.\n",
    "\n",
    "1. Reference Counting:\n",
    "   - Python uses reference counting to keep track of the number of references to an object.\n",
    "   - Whenever an object is created, its reference count is initialized to 1. Whenever a new reference to the object is created, the reference count is incremented, and whenever a reference is deleted, the reference count is decremented.\n",
    "   - When the reference count of an object reaches zero, the object is automatically deleted, and its memory is reclaimed.\n",
    "\n",
    "2. Garbage Collector:\n",
    "   - Python also employs a garbage collector to handle circular references and other memory management tasks that cannot be easily handled by reference counting alone.\n",
    "   - The garbage collector periodically scans the memory and identifies objects that are no longer reachable, even though they may still have non-zero reference counts due to circular references.\n",
    "   - The garbage collector then frees the memory occupied by these unreachable objects.\n",
    "\n",
    "3. Automatic Memory Allocation and Deallocation:[\n",
    "   - Python automatically allocates memory for objects when they are created and deallocates the memory when the objects are no longer needed.\n",
    "   - This abstraction from manual memory management makes Python a high-level language that is easier to use and less prone to memory-related bugs, such as memory leaks or dangling pointers.\n",
    "\n",
    "4. Memory Optimization:\n",
    "   - Python also provides various tools and techniques to optimize memory usage, such as the use of generators, list comprehensions, and the `__slots__` feature for classes.\n",
    "   - Developers can also use the `sys.getsizeof()` function to get the size of an object in bytes, which can help in identifying and addressing memory-intensive parts of the code. \n"
   ]
  },
  {
   "cell_type": "markdown",
   "id": "64815348-7c1f-445b-a919-dba4082c82fe",
   "metadata": {},
   "source": [
    "15. How to install Python on windows and set path variables?\n",
    "\n",
    "Ans: To install Python on Windows and set the path variables, follow these steps:\n",
    "\n",
    "1. Download Python:\n",
    "   - Go to the official Python website (https://www.python.org/downloads/) and download the latest version of Python for Windows.\n",
    "\n",
    "2. Run the Installer:\n",
    "   - Once the download is complete, run the installer. Make sure to select the option to \"Add Python to PATH\" during the installation process\n",
    "\n",
    "3. Verify the Installation:\n",
    "   - Open the Windows Command Prompt (cmd.exe) or PowerShell and type `python --version`. If the installation was successful, it should display the version of Python you installed.\n",
    "\n",
    "4. Set the Path Variables (if not set during installation):\n",
    "   - Right-click on the Windows start menu and select \"System\".\n",
    "   - Click on \"Advanced system settings\" on the left-hand side.\n",
    "   - In the System Properties window, click on the \"Environment Variables\" button.\n",
    "   - In the Environment Variables window, under the \"System Variables\" section, scroll down and find the \"Path\" variable.[12]\n",
    "   - Click on \"Edit\" and then \"New\".\n",
    "   - Add the path to your Python installation, typically `C:\\Python[version]\\` (replace `[version]` with the specific version you installed).\n",
    "   - Click \"OK\" to save the changes and close the windows.\n",
    "\n",
    "5. Verify the Path Variable:\n",
    "   - Open a new Command Prompt or PowerShell window and type `python --version` again. It should now display the version of Python you installed.\n",
    "\n",
    "\n",
    "\n",
    "Q16. is identation required in python?\n",
    "\n",
    "ans: Yes, indentation is required in Python. Python uses indentation to define code blocks, such as functions, loops, and conditional statements, unlike other programming languages that use curly braces or keywords to define code blocks.\n",
    "\n",
    "\n",
    "\n",
    "\n",
    "\n",
    "\n",
    "\n",
    "\n",
    "\n"
   ]
  },
  {
   "cell_type": "code",
   "execution_count": null,
   "id": "230e4b1d-d0c6-4c22-9fa2-ee7bd2840c9a",
   "metadata": {},
   "outputs": [],
   "source": []
  }
 ],
 "metadata": {
  "kernelspec": {
   "display_name": "Python 3 (ipykernel)",
   "language": "python",
   "name": "python3"
  },
  "language_info": {
   "codemirror_mode": {
    "name": "ipython",
    "version": 3
   },
   "file_extension": ".py",
   "mimetype": "text/x-python",
   "name": "python",
   "nbconvert_exporter": "python",
   "pygments_lexer": "ipython3",
   "version": "3.10.8"
  }
 },
 "nbformat": 4,
 "nbformat_minor": 5
}
