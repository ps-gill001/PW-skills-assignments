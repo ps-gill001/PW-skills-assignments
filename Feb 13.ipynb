{
 "cells": [
  {
   "cell_type": "code",
   "execution_count": null,
   "id": "84197a4b-7eec-47c6-9dd5-53651512f4d5",
   "metadata": {},
   "outputs": [],
   "source": [
    "Q1. Using the Exception Class for Custom Exceptions\n",
    "When creating custom exceptions in Python, we inherit from the Exception class because it is the base class for all built-in exceptions in Python. This ensures that our custom exceptions integrate seamlessly with Python's exception-handling framework. Here are a few reasons:\n",
    "\n",
    "Consistency: Custom exceptions behave like built-in exceptions, making them intuitive for other developers to use.\n",
    "Compatibility: Custom exceptions work with Python's exception-handling constructs like try, except, finally, and else.\n",
    "Extensibility: Inheriting from Exception allows us to leverage existing functionality and add custom behavior as needed."
   ]
  },
  {
   "cell_type": "code",
   "execution_count": null,
   "id": "c7342da4-c3c2-4d7d-b6d2-80b802d1058d",
   "metadata": {},
   "outputs": [],
   "source": [
    "'''Q2. Printing Python Exception Hierarchy\n",
    "The Python exception hierarchy can be printed using the inspect module to iterate through the built-in exceptions.'''\n",
    "\n",
    "import inspect\n",
    "import builtins\n",
    "\n",
    "def print_exception_hierarchy(cls, indent=0):\n",
    "    print(' ' * indent + cls.__name__)\n",
    "    for subclass in cls.__subclasses__():\n",
    "        print_exception_hierarchy(subclass, indent + 2)\n",
    "\n",
    "print_exception_hierarchy(builtins.BaseException)\n"
   ]
  },
  {
   "cell_type": "code",
   "execution_count": null,
   "id": "620b9b5c-5b23-409a-9ecb-913f970d8006",
   "metadata": {},
   "outputs": [],
   "source": [
    "'''Q3. Errors in the ArithmeticError Class\n",
    "The ArithmeticError class is a base class for errors that occur during numeric calculations. Two common errors that fall under ArithmeticError are:\n",
    "\n",
    "ZeroDivisionError: Raised when a division or modulo operation is performed with zero as the divisor.'''\n",
    "\n",
    "try:\n",
    "    result = 10 / 0\n",
    "except ZeroDivisionError as e:\n",
    "    print(f\"Error: {e}\")\n"
   ]
  },
  {
   "cell_type": "code",
   "execution_count": null,
   "id": "3a9a230d-cd53-4786-be93-52dbdde79187",
   "metadata": {},
   "outputs": [],
   "source": [
    "'''OverflowError: Raised when the result of an arithmetic operation is too large to be expressed within the available range of a numeric type.'''\n",
    "\n",
    "import math\n",
    "try:\n",
    "    result = math.exp(1000)\n",
    "except OverflowError as e:\n",
    "    print(f\"Error: {e}\")\n"
   ]
  },
  {
   "cell_type": "code",
   "execution_count": null,
   "id": "ed4f231f-e1e4-4586-8063-c1d66bc176a9",
   "metadata": {},
   "outputs": [],
   "source": [
    "'''Q4. The LookupError Class\n",
    "The LookupError class is a base class for errors raised when a lookup on a collection (e.g., list, dictionary) fails.\n",
    "\n",
    "KeyError: Raised when a dictionary key is not found.'''\n",
    "\n",
    "my_dict = {'a': 1, 'b': 2}\n",
    "try:\n",
    "    value = my_dict['c']\n",
    "except KeyError as e:\n",
    "    print(f\"KeyError: {e}\")\n"
   ]
  },
  {
   "cell_type": "code",
   "execution_count": null,
   "id": "7582e257-e31e-4180-abf3-0264c179d988",
   "metadata": {},
   "outputs": [],
   "source": [
    "#IndexError: Raised when a sequence index is out of range.\n",
    "\n",
    "my_list = [1, 2, 3]\n",
    "try:\n",
    "    value = my_list[5]\n",
    "except IndexError as e:\n",
    "    print(f\"IndexError: {e}\")\n"
   ]
  },
  {
   "cell_type": "code",
   "execution_count": null,
   "id": "faecc238-1714-440b-a6f1-d5a1de16c696",
   "metadata": {},
   "outputs": [],
   "source": [
    "'''Q5. ImportError and ModuleNotFoundError\n",
    "ImportError: Raised when an import statement fails to import a module.\n",
    "\n",
    "ModuleNotFoundError: A subclass of ImportError introduced in Python 3.6, specifically used when a module could not be found.'''\n",
    "\n",
    "\n",
    "try:\n",
    "    import non_existent_module\n",
    "except ModuleNotFoundError as e:\n",
    "    print(f\"ModuleNotFoundError: {e}\")\n"
   ]
  },
  {
   "cell_type": "markdown",
   "id": "c1c4e991-0e39-4b64-b81c-f52bc8348ed0",
   "metadata": {},
   "source": [
    "Q6. Best Practices for Exception Handling in Python\n",
    "Be Specific with Exceptions: Catch specific exceptions rather than a generic Exception to handle different error conditions appropriately\n",
    "Use finally Block: Ensure that cleanup code runs regardless of whether an exception was raised.\n",
    "Avoid Bare Excepts: Avoid catching all exceptions with a bare except: clause.\n",
    "Log Exceptions: Use logging to capture exceptions for debugging purposes.\n",
    "Raise Custom Exceptions: Create and raise custom exceptions for specific error conditions in your application\n",
    "Provide Useful Error Messages: Include informative messages when raising or logging exceptions\n",
    "Handle Exceptions at Appropriate Levels: Handle exceptions at the level where you have enough context to manage them properly."
   ]
  }
 ],
 "metadata": {
  "kernelspec": {
   "display_name": "Python 3 (ipykernel)",
   "language": "python",
   "name": "python3"
  },
  "language_info": {
   "codemirror_mode": {
    "name": "ipython",
    "version": 3
   },
   "file_extension": ".py",
   "mimetype": "text/x-python",
   "name": "python",
   "nbconvert_exporter": "python",
   "pygments_lexer": "ipython3",
   "version": "3.10.8"
  }
 },
 "nbformat": 4,
 "nbformat_minor": 5
}
