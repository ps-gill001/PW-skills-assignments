{
 "cells": [
  {
   "cell_type": "code",
   "execution_count": 3,
   "id": "626ff631-e994-4f2f-9b73-11c76f960e0e",
   "metadata": {},
   "outputs": [
    {
     "name": "stdout",
     "output_type": "stream",
     "text": [
      "    Name  Age      City\n",
      "0   John   25  New York\n",
      "1   Jane   30    London\n",
      "2    Bob   35     Paris\n",
      "3  Alice   40     Tokyo\n",
      "<class 'pandas.core.frame.DataFrame'>\n",
      "RangeIndex: 4 entries, 0 to 3\n",
      "Data columns (total 3 columns):\n",
      " #   Column  Non-Null Count  Dtype \n",
      "---  ------  --------------  ----- \n",
      " 0   Name    4 non-null      object\n",
      " 1   Age     4 non-null      int64 \n",
      " 2   City    4 non-null      object\n",
      "dtypes: int64(1), object(2)\n",
      "memory usage: 224.0+ bytes\n"
     ]
    },
    {
     "data": {
      "text/html": [
       "<div>\n",
       "<style scoped>\n",
       "    .dataframe tbody tr th:only-of-type {\n",
       "        vertical-align: middle;\n",
       "    }\n",
       "\n",
       "    .dataframe tbody tr th {\n",
       "        vertical-align: top;\n",
       "    }\n",
       "\n",
       "    .dataframe thead th {\n",
       "        text-align: right;\n",
       "    }\n",
       "</style>\n",
       "<table border=\"1\" class=\"dataframe\">\n",
       "  <thead>\n",
       "    <tr style=\"text-align: right;\">\n",
       "      <th></th>\n",
       "      <th>Age</th>\n",
       "    </tr>\n",
       "  </thead>\n",
       "  <tbody>\n",
       "    <tr>\n",
       "      <th>count</th>\n",
       "      <td>4.000000</td>\n",
       "    </tr>\n",
       "    <tr>\n",
       "      <th>mean</th>\n",
       "      <td>32.500000</td>\n",
       "    </tr>\n",
       "    <tr>\n",
       "      <th>std</th>\n",
       "      <td>6.454972</td>\n",
       "    </tr>\n",
       "    <tr>\n",
       "      <th>min</th>\n",
       "      <td>25.000000</td>\n",
       "    </tr>\n",
       "    <tr>\n",
       "      <th>25%</th>\n",
       "      <td>28.750000</td>\n",
       "    </tr>\n",
       "    <tr>\n",
       "      <th>50%</th>\n",
       "      <td>32.500000</td>\n",
       "    </tr>\n",
       "    <tr>\n",
       "      <th>75%</th>\n",
       "      <td>36.250000</td>\n",
       "    </tr>\n",
       "    <tr>\n",
       "      <th>max</th>\n",
       "      <td>40.000000</td>\n",
       "    </tr>\n",
       "  </tbody>\n",
       "</table>\n",
       "</div>"
      ],
      "text/plain": [
       "             Age\n",
       "count   4.000000\n",
       "mean   32.500000\n",
       "std     6.454972\n",
       "min    25.000000\n",
       "25%    28.750000\n",
       "50%    32.500000\n",
       "75%    36.250000\n",
       "max    40.000000"
      ]
     },
     "execution_count": 3,
     "metadata": {},
     "output_type": "execute_result"
    }
   ],
   "source": [
    "# List any five functions of the pandas library with execution\n",
    "# 1 Series\n",
    "\n",
    "import pandas as pd\n",
    "name = pd.Series(['John', 'Jane', 'Bob', 'Alice'])\n",
    "age = pd.Series([25, 30, 35, 40])\n",
    "city = pd.Series(['New York', 'London', 'Paris', 'Tokyo'])\n",
    "\n",
    "data = {'Name' : name, 'Age': age, 'City': city}\n",
    "\n",
    "#2 DataFrame\n",
    "df = pd.DataFrame(data)\n",
    "print(df)\n",
    "\n",
    "#3 info\n",
    "\n",
    "df.info()\n",
    "\n",
    "#4 head\n",
    "\n",
    "df.head()\n",
    "\n",
    "#5. describe\n",
    "\n",
    "df.describe()"
   ]
  },
  {
   "cell_type": "code",
   "execution_count": 6,
   "id": "6a206f29-c1ed-4848-a028-f1ce3a2f7bce",
   "metadata": {},
   "outputs": [
    {
     "name": "stdout",
     "output_type": "stream",
     "text": [
      "    Name  Age      City\n",
      "1   John   25  New York\n",
      "3   Jane   30    London\n",
      "5    Bob   35     Paris\n",
      "7  Alice   40     Tokyo\n"
     ]
    }
   ],
   "source": [
    "'''Q2. Given a Pandas DataFrame df with columns 'A', 'B', and 'C', write a Python function to re-index the\n",
    "DataFrame with a new index that starts from 1 and increments by 2 for each row.'''\n",
    "\n",
    "def reindex_df(df):\n",
    "    new_index = pd.RangeIndex(start=1, stop=len(df)*2, step=2)\n",
    "    return df.set_index(new_index)\n",
    "\n",
    "name = pd.Series(['John', 'Jane', 'Bob', 'Alice'])\n",
    "age = pd.Series([25, 30, 35, 40])\n",
    "city = pd.Series(['New York', 'London', 'Paris', 'Tokyo'])\n",
    "\n",
    "df = pd.DataFrame({'Name' : name, 'Age': age, 'City': city})\n",
    "reindexed_df = reindex_df(df)\n",
    "print(reindexed_df)\n",
    "\n"
   ]
  },
  {
   "cell_type": "markdown",
   "id": "6bc79a94-e981-4556-a9ba-8aa687e40045",
   "metadata": {},
   "source": [
    "Q3. You have a Pandas DataFrame df with a column named 'Values'. Write a Python function that\n",
    "iterates over the DataFrame and calculates the sum of the first three values in the 'Values' column. The\n",
    "function should print the sum to the console.\n",
    "\n",
    "For example, if the 'Values' column of df contains the values [10, 20, 30, 40, 50], your function should\n",
    "calculate and print the sum of the first three values, which is 60.\n"
   ]
  },
  {
   "cell_type": "code",
   "execution_count": 10,
   "id": "f8b3044b-edb3-4aa1-9130-9344bec4a660",
   "metadata": {},
   "outputs": [
    {
     "data": {
      "text/plain": [
       "60"
      ]
     },
     "execution_count": 10,
     "metadata": {},
     "output_type": "execute_result"
    }
   ],
   "source": [
    "df = pd.DataFrame({'A':[10,20,30,40,50]})\n",
    "def sum(df):\n",
    "    value_sum = df.A.head(3).sum()\n",
    "    return value_sum\n",
    "sum(df)"
   ]
  },
  {
   "cell_type": "markdown",
   "id": "be8ad979-dd6f-41b7-8c2a-13b4be5c0084",
   "metadata": {},
   "source": [
    "Q4. Given a Pandas DataFrame df with a column 'Text', write a Python function to create a new column\n",
    "'Word_Count' that contains the number of words in each row of the 'Text' column"
   ]
  },
  {
   "cell_type": "code",
   "execution_count": 14,
   "id": "1f6b162e-58d9-4061-97ff-b8c790badfbb",
   "metadata": {},
   "outputs": [
    {
     "name": "stdout",
     "output_type": "stream",
     "text": [
      "                        Text  word_count\n",
      "0                  Hello bye           2\n",
      "1                How are you           3\n",
      "2     This is a sample text.           5\n",
      "3  Another example sentence.           3\n",
      "4              A short text.           3\n"
     ]
    }
   ],
   "source": [
    "def count(df):\n",
    "    df['word_count'] = df.Text.str.split().str.len()\n",
    "    return df\n",
    "df = pd.DataFrame({\"Text\":['Hello bye','How are you','This is a sample text.', 'Another example sentence.', 'A short text.']})\n",
    "updated = count(df)\n",
    "print(updated)"
   ]
  },
  {
   "cell_type": "markdown",
   "id": "4b7dc9f1-6caf-4e26-8dc3-e1d1e198c5fc",
   "metadata": {},
   "source": [
    "DataFrame.size and DataFrame.shape are attributes of a pandas DataFrame in Python, and they provide different information about the DataFrame.\n",
    "\n",
    "DataFrame.size:\n",
    "\n",
    "Definition: Returns the number of elements in the DataFrame.\n",
    "Calculation: It is calculated as the total number of rows multiplied by the total number of columns.\n",
    "Usage: It gives you a single integer value.\n",
    "Example: If a DataFrame has 5 rows and 3 columns, DataFrame.size would be \n",
    "5×3=15\n",
    "python\n",
    "\n",
    "import pandas as pd\n",
    "df = pd.DataFrame({\n",
    "    'A': [1, 2, 3],\n",
    "    'B': [4, 5, 6]\n",
    "})\n",
    "print(df.size)  # Output: 6 (since 3 rows * 2 columns = 6)\n",
    "DataFrame.shape:\n",
    "\n",
    "Definition: Returns a tuple representing the dimensionality of the DataFrame.\n",
    "Output: The tuple is in the form (number of rows, number of columns).\n",
    "Usage: It gives you the structure of the DataFrame.\n",
    "Example: If a DataFrame has 5 rows and 3 columns, DataFrame.shape would be (5, 3).\n",
    "python\n",
    "\n",
    "import pandas as pd\n",
    "df = pd.DataFrame({\n",
    "    'A': [1, 2, 3],\n",
    "    'B': [4, 5, 6]\n",
    "})\n",
    "print(df.shape)  # Output: (3, 2)\n",
    "Summary:\n",
    "DataFrame.size: Provides the total number of elements (rows * columns) as an integer.\n",
    "DataFrame.shape: Provides the shape of the DataFrame as a tuple (number of rows, number of columns)."
   ]
  },
  {
   "cell_type": "markdown",
   "id": "b8962e85-e775-404f-a37e-f2946be3d500",
   "metadata": {},
   "source": [
    "Q6. Which function of pandas do we use to read an excel file?\n",
    "\n",
    "To read an Excel file into a pandas DataFrame, you use the pandas.read_excel() function. This function allows you to read data from an Excel file, with support for both .xls and .xlsx formats.\n",
    "\n"
   ]
  },
  {
   "cell_type": "markdown",
   "id": "77c9f598-89da-4709-a67d-307b13601cec",
   "metadata": {},
   "source": [
    "Q7. You have a Pandas DataFrame df that contains a column named 'Email' that contains email\n",
    "addresses in the format 'username@domain.com'. Write a Python function that creates a new column\n",
    "'Username' in df that contains only the username part of each email address.\n",
    "\n",
    "The username is the part of the email address that appears before the '@' symbol. For example, if the\n",
    "email address is 'john.doe@example.com', the 'Username' column should contain 'john.doe'. Your\n",
    "function should extract the username from each email address and store it in the new 'Username'\n",
    "column.\n",
    "\n"
   ]
  },
  {
   "cell_type": "code",
   "execution_count": 5,
   "id": "e613d1e4-ce3e-4c01-aa44-f070ce4951fa",
   "metadata": {},
   "outputs": [
    {
     "name": "stdout",
     "output_type": "stream",
     "text": [
      "                   Email    Username\n",
      "0   john.doe@example.com    john.doe\n",
      "1  jane.smith@domain.org  jane.smith\n",
      "2       user123@test.net     user123\n"
     ]
    }
   ],
   "source": [
    "'''email = 'john.doe@example.com'\n",
    "word = email.split('@')\n",
    "print(word[0])\n",
    "'''\n",
    "import pandas as pd\n",
    "\n",
    "def extract_usernames(df):\n",
    "    # Create the 'Username' column by applying a lambda function to the 'Email' column\n",
    "    df['Username'] = df['Email'].apply(lambda x: x.split('@')[0])\n",
    "    return df\n",
    "\n",
    "# Example usage\n",
    "df = pd.DataFrame({\n",
    "    'Email': ['john.doe@example.com', 'jane.smith@domain.org', 'user123@test.net']\n",
    "})\n",
    "\n",
    "# Extract usernames and store them in the 'Username' column\n",
    "df = extract_usernames(df)\n",
    "\n",
    "# Display the DataFrame\n",
    "print(df)"
   ]
  },
  {
   "cell_type": "raw",
   "id": "1e5962ff-fc6a-463e-85ba-cc35f279f62e",
   "metadata": {},
   "source": [
    "Q8. You have a Pandas DataFrame df with columns 'A', 'B', and 'C'. Write a Python function that selects\n",
    "all rows where the value in column 'A' is greater than 5 and the value in column 'B' is less than 10. The\n",
    "function should return a new DataFrame that contains only the selected rows.\n",
    "\n",
    "For example, if df contains the following values:\n",
    "\n",
    "A B C\n",
    "\n",
    "0 3 5 1\n",
    "\n",
    "1 8 2 7\n",
    "\n",
    "2 6 9 4\n",
    "\n",
    "3 2 3 5\n",
    "\n",
    "4 9 1 2"
   ]
  },
  {
   "cell_type": "code",
   "execution_count": 16,
   "id": "78e1f61e-2c4e-4752-8cb4-41ae3fe1aff0",
   "metadata": {},
   "outputs": [
    {
     "name": "stdout",
     "output_type": "stream",
     "text": [
      "   A  B  C\n",
      "1  8  2  7\n",
      "2  6  9  4\n",
      "4  9  1  2\n"
     ]
    }
   ],
   "source": [
    "df = pd.DataFrame({'A':[3,8,6,2,9],'B':[5,2,9,3,1],'C':[1,7,4,5,2]},index = [0,1,2,3,4])\n",
    "\n",
    "def fun(df):\n",
    "    filtered_df = df.query('A > 5 and B < 10')\n",
    "    return filtered_df\n",
    "\n",
    "# Select rows based on the conditions\n",
    "selected_df = fun(df)\n",
    "\n",
    "# Display the resulting DataFrame\n",
    "print(selected_df)"
   ]
  },
  {
   "cell_type": "raw",
   "id": "f59dddd7-36f9-47bf-b6be-45b784ad9103",
   "metadata": {},
   "source": [
    "#Q9. Given a Pandas DataFrame df with a column 'Values', write a Python function to calculate the mean,\n",
    "median, and standard deviation of the values in the 'Values' column"
   ]
  },
  {
   "cell_type": "code",
   "execution_count": 22,
   "id": "a103d270-1c61-4dcc-8cd2-2bcfc5a12fa4",
   "metadata": {},
   "outputs": [
    {
     "data": {
      "text/plain": [
       "Values    250.0\n",
       "dtype: float64"
      ]
     },
     "execution_count": 22,
     "metadata": {},
     "output_type": "execute_result"
    }
   ],
   "source": [
    "df = pd.DataFrame({'Values':[10,20,30,40,50]})\n",
    "\n",
    "df.mean()\n",
    "\n",
    "df.median()\n",
    "\n",
    "df.std()\n",
    "\n",
    "df.var()"
   ]
  },
  {
   "cell_type": "raw",
   "id": "204b8b2b-9346-4bc7-98db-2e66ee2fd5e5",
   "metadata": {},
   "source": [
    "Q10. Given a Pandas DataFrame df with a column 'Sales' and a column 'Date', write a Python function to\n",
    "create a new column 'MovingAverage' that contains the moving average of the sales for the past 7 days\n",
    "for each row in the DataFrame. The moving average should be calculated using a window of size 7 and\n",
    "should include the current day.\n"
   ]
  },
  {
   "cell_type": "code",
   "execution_count": 23,
   "id": "5afefc86-971b-4908-9d56-c9fd6a0f491e",
   "metadata": {},
   "outputs": [
    {
     "name": "stdout",
     "output_type": "stream",
     "text": [
      "        Date  Sales  MovingAverage\n",
      "0 2024-01-01    100     100.000000\n",
      "1 2024-01-02    150     125.000000\n",
      "2 2024-01-03    200     150.000000\n",
      "3 2024-01-04    180     157.500000\n",
      "4 2024-01-05    220     170.000000\n",
      "5 2024-01-06    250     183.333333\n",
      "6 2024-01-07    230     190.000000\n",
      "7 2024-01-08    280     215.714286\n",
      "8 2024-01-09    300     237.142857\n",
      "9 2024-01-10    320     254.285714\n"
     ]
    }
   ],
   "source": [
    "import pandas as pd\n",
    "\n",
    "def calculate_moving_average(df):\n",
    "    # Sort the DataFrame by date if it's not already sorted\n",
    "    df = df.sort_values(by='Date')\n",
    "\n",
    "    # Calculate the moving average using a window of size 7\n",
    "    df['MovingAverage'] = df['Sales'].rolling(window=7, min_periods=1).mean()\n",
    "    \n",
    "    return df\n",
    "\n",
    "# Example usage\n",
    "data = {\n",
    "    'Date': pd.date_range(start='2024-01-01', periods=10),\n",
    "    'Sales': [100, 150, 200, 180, 220, 250, 230, 280, 300, 320]\n",
    "}\n",
    "\n",
    "df = pd.DataFrame(data)\n",
    "\n",
    "# Calculate the moving average\n",
    "df = calculate_moving_average(df)\n",
    "\n",
    "# Display the resulting DataFrame\n",
    "print(df)\n"
   ]
  },
  {
   "cell_type": "raw",
   "id": "20e4f145-1845-4dfe-b535-6c854f82f6f3",
   "metadata": {},
   "source": [
    "Q11. You have a Pandas DataFrame df with a column 'Date'. Write a Python function that creates a new\n",
    "column 'Weekday' in the DataFrame. The 'Weekday' column should contain the weekday name (e.g.\n",
    "Monday, Tuesday) corresponding to each date in the 'Date' column.\n",
    "\n",
    "For example, if df contains the following values:\n",
    "\n",
    "Date\n",
    "\n",
    "0 2023-01-01\n",
    "\n",
    "1 2023-01-02\n",
    "\n",
    "2 2023-01-03\n",
    "\n",
    "3 2023-01-04\n",
    "\n",
    "4 2023-01-05\n",
    "\n",
    "Your function should create the following DataFrame:\n",
    "\n",
    "\n",
    "Date Weekday\n",
    "\n",
    "0 2023-01-01 Sunday\n",
    "\n",
    "1 2023-01-02 Monday\n",
    "\n",
    "2 2023-01-03 Tuesday\n",
    "\n",
    "3 2023-01-04 Wednesday\n",
    "\n",
    "4 2023-01-05 Thursday\n",
    "\n",
    "The function should return the modified DataFrame.\n"
   ]
  },
  {
   "cell_type": "code",
   "execution_count": 30,
   "id": "531b22d5-01d2-42f7-a8e6-1a49e10000e5",
   "metadata": {},
   "outputs": [
    {
     "name": "stdout",
     "output_type": "stream",
     "text": [
      "        Date    weekday\n",
      "0 2023-01-01     Sunday\n",
      "1 2023-01-02     Monday\n",
      "2 2023-01-03    Tuesday\n",
      "3 2023-01-04  Wednesday\n",
      "4 2023-01-05   Thursday\n"
     ]
    }
   ],
   "source": [
    "def week_col(df):\n",
    "    df['Date'] = pd.to_datetime(df['Date'])\n",
    "    df['weekday'] = df['Date'].dt.strftime('%A')\n",
    "    return df\n",
    "# Example usage\n",
    "data = {\n",
    "    'Date': ['2023-01-01', '2023-01-02', '2023-01-03', '2023-01-04', '2023-01-05']\n",
    "}\n",
    "\n",
    "df = pd.DataFrame(data)\n",
    "\n",
    "# Add the 'Weekday' column\n",
    "df = week_col(df)\n",
    "\n",
    "# Display the resulting DataFrame\n",
    "print(df)\n",
    "                                   "
   ]
  },
  {
   "cell_type": "raw",
   "id": "01acc346-0b66-4044-9c10-73e8a0cb78ab",
   "metadata": {},
   "source": [
    "Q12. Given a Pandas DataFrame df with a column 'Date' that contains timestamps, write a Python\n",
    "function to select all rows where the date is between '2023-01-01' and '2023-01-31'.\n",
    "\n"
   ]
  },
  {
   "cell_type": "code",
   "execution_count": 31,
   "id": "540ce407-ce2b-41d3-8dcd-1c408c8ac7c0",
   "metadata": {},
   "outputs": [
    {
     "name": "stdout",
     "output_type": "stream",
     "text": [
      "        Date  Value\n",
      "1 2023-01-01     20\n",
      "2 2023-01-15     30\n",
      "3 2023-01-31     40\n"
     ]
    }
   ],
   "source": [
    "import pandas as pd\n",
    "\n",
    "def select_date_range(df, start_date, end_date):\n",
    "    # Convert the 'Date' column to datetime if it's not already in datetime format\n",
    "    df['Date'] = pd.to_datetime(df['Date'])\n",
    "    \n",
    "    # Filter rows where the date is between start_date and end_date\n",
    "    filtered_df = df[(df['Date'] >= start_date) & (df['Date'] <= end_date)]\n",
    "    \n",
    "    return filtered_df\n",
    "\n",
    "# Example usage\n",
    "data = {\n",
    "    'Date': ['2022-12-31', '2023-01-01', '2023-01-15', '2023-01-31', '2023-02-01'],\n",
    "    'Value': [10, 20, 30, 40, 50]\n",
    "}\n",
    "\n",
    "df = pd.DataFrame(data)\n",
    "\n",
    "# Select rows where the date is between '2023-01-01' and '2023-01-31'\n",
    "filtered_df = select_date_range(df, '2023-01-01', '2023-01-31')\n",
    "\n",
    "# Display the resulting DataFrame\n",
    "print(filtered_df)"
   ]
  },
  {
   "cell_type": "markdown",
   "id": "aed57727-2d8e-4586-b05c-27e050772ab3",
   "metadata": {},
   "source": [
    "Q13. To use the basic functions of pandas, what is the first and foremost necessary library that needs to\n",
    "be imported?"
   ]
  },
  {
   "cell_type": "markdown",
   "id": "77318ca2-9d5c-4505-831f-f42fbf014440",
   "metadata": {},
   "source": [
    "the first and foremost necessary library that needs to be imported is pandas. This can be done with the following import statement:\n",
    "\n",
    "import pandas as pd"
   ]
  },
  {
   "cell_type": "code",
   "execution_count": null,
   "id": "945103ad-dc47-46ab-b854-b2fc597334de",
   "metadata": {},
   "outputs": [],
   "source": []
  },
  {
   "cell_type": "code",
   "execution_count": null,
   "id": "cdd6e45a-3732-471f-82a3-a5243712c4a5",
   "metadata": {},
   "outputs": [],
   "source": []
  },
  {
   "cell_type": "code",
   "execution_count": null,
   "id": "0cd1b9ef-0b04-4cb5-aab0-40dd0d0b2ea8",
   "metadata": {},
   "outputs": [],
   "source": []
  }
 ],
 "metadata": {
  "kernelspec": {
   "display_name": "Python 3 (ipykernel)",
   "language": "python",
   "name": "python3"
  },
  "language_info": {
   "codemirror_mode": {
    "name": "ipython",
    "version": 3
   },
   "file_extension": ".py",
   "mimetype": "text/x-python",
   "name": "python",
   "nbconvert_exporter": "python",
   "pygments_lexer": "ipython3",
   "version": "3.10.8"
  }
 },
 "nbformat": 4,
 "nbformat_minor": 5
}
