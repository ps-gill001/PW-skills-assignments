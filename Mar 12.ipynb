{
 "cells": [
  {
   "cell_type": "code",
   "execution_count": 6,
   "id": "9e8c40dd-476d-4186-acd9-dfece3e012e1",
   "metadata": {},
   "outputs": [
    {
     "data": {
      "text/plain": [
       "'The entire code calculates the 95% confidence interval for a sample mean. It starts by importing necessary libraries, defining the given data, and calculating the Z-score for the 95% confidence level. It then computes the margin of error using the standard error of the mean and the Z-score. Finally, it calculates and outputs the confidence interval as a tuple containing the lower and upper bounds.\\n\\nRunning this code in a Python environment will give you the 95% confidence interval for the sample mean, which in this case is approximately (48.21, 51.79). This interval means we can be 95% confident that the true population mean lies within this range.'"
      ]
     },
     "execution_count": 6,
     "metadata": {},
     "output_type": "execute_result"
    }
   ],
   "source": [
    "'''Q1. Calculate the 95% confidence interval for a sample of data with a mean of 50 and a standard deviation\n",
    "of 5 using Python. Interpret the results'''\n",
    "\n",
    "import scipy.stats as stats\n",
    "import math\n",
    "\n",
    "mean = 50\n",
    "std_d = 5\n",
    "confidence = 0.95\n",
    "sample_size = 30\n",
    "\n",
    "#z-score\n",
    "\n",
    "z_score = stats.norm.ppf((1 +confidence)/2)\n",
    "\n",
    "#margin error\n",
    "\n",
    "margin_error = z_score * (std_d / math.sqrt((sample_size)))\n",
    "\n",
    "confidence_interval = (mean - margin_error, mean + margin_error)\n",
    "confidence_interval\n",
    "\n",
    "'''The entire code calculates the 95% confidence interval for a sample mean. It starts by importing necessary libraries, defining the given data, and calculating the Z-score for the 95% confidence level. It then computes the margin of error using the standard error of the mean and the Z-score. Finally, it calculates and outputs the confidence interval as a tuple containing the lower and upper bounds.\n",
    "\n",
    "Running this code in a Python environment will give you the 95% confidence interval for the sample mean, which in this case is approximately (48.21, 51.79). This interval means we can be 95% confident that the true population mean lies within this range.'''"
   ]
  },
  {
   "cell_type": "code",
   "execution_count": 11,
   "id": "70c12cbc-0e10-42d7-9dc4-54913c5c147d",
   "metadata": {},
   "outputs": [
    {
     "data": {
      "text/plain": [
       "(2.916666666666667, 0.7128316836671243)"
      ]
     },
     "execution_count": 11,
     "metadata": {},
     "output_type": "execute_result"
    }
   ],
   "source": [
    "import numpy as np\n",
    "from scipy.stats import chisquare\n",
    "\n",
    "# Example observed frequencies of M&M colors\n",
    "observed_frequencies = np.array([25, 30, 20, 10, 10, 25])\n",
    "\n",
    "# Total number of M&Ms\n",
    "total_mms = np.sum(observed_frequencies)\n",
    "\n",
    "# Expected distribution percentages\n",
    "expected_percentages = np.array([0.20, 0.20, 0.20, 0.10, 0.10, 0.20])\n",
    "\n",
    "# Expected frequencies\n",
    "expected_frequencies = total_mms * expected_percentages\n",
    "\n",
    "# Perform the chi-square goodness of fit test\n",
    "chi2_stat, p_value = chisquare(observed_frequencies, expected_frequencies)\n",
    "\n",
    "chi2_stat, p_value\n"
   ]
  },
  {
   "cell_type": "code",
   "execution_count": 1,
   "id": "d48a1631-d538-43c4-a418-1e6b318031d2",
   "metadata": {},
   "outputs": [
    {
     "name": "stdout",
     "output_type": "stream",
     "text": [
      "Chi-square Statistic: 5.833333333333334\n",
      "P-value: 0.05411376622282158\n",
      "Degrees of Freedom: 2\n",
      "Expected Frequencies:\n",
      "[[15. 20.]\n",
      " [15. 20.]\n",
      " [15. 20.]]\n"
     ]
    },
    {
     "data": {
      "text/plain": [
       "'Interpretation:\\nChi-square Statistic: This measures how much the observed frequencies deviate from the expected frequencies.\\nP-value: This indicates the probability that the observed distribution is due to chance. If the p-value is less than the significance level (e.g., 0.05), you reject the null hypothesis.\\nDegrees of Freedom (dof): This value is calculated based on the number of categories and groups.\\nExpected Frequencies: These are the frequencies you would expect if there were no association between the categories.\\nBased on the p-value, you can determine if there is a significant association between the groups and the outcomes. If the p-value is less than 0.05, it suggests that there is a significant association between the groups and the outcomes. If the p-value is greater than 0.05, it suggests that there is no significant association, and any observed differences are likely due to chance.\\n\\n'"
      ]
     },
     "execution_count": 1,
     "metadata": {},
     "output_type": "execute_result"
    }
   ],
   "source": [
    "import numpy as np\n",
    "from scipy.stats import chi2_contingency\n",
    "\n",
    "# Define the contingency table\n",
    "contingency_table = np.array([\n",
    "    [20, 15],\n",
    "    [10, 25],\n",
    "    [15, 20]\n",
    "])\n",
    "\n",
    "# Perform the chi-square test\n",
    "chi2_stat, p_value, dof, expected = chi2_contingency(contingency_table)\n",
    "\n",
    "print(f\"Chi-square Statistic: {chi2_stat}\")\n",
    "print(f\"P-value: {p_value}\")\n",
    "print(f\"Degrees of Freedom: {dof}\")\n",
    "print(\"Expected Frequencies:\")\n",
    "print(expected)\n",
    "\n",
    "'''Interpretation:\n",
    "Chi-square Statistic: This measures how much the observed frequencies deviate from the expected frequencies.\n",
    "P-value: This indicates the probability that the observed distribution is due to chance. If the p-value is less than the significance level (e.g., 0.05), you reject the null hypothesis.\n",
    "Degrees of Freedom (dof): This value is calculated based on the number of categories and groups.\n",
    "Expected Frequencies: These are the frequencies you would expect if there were no association between the categories.\n",
    "Based on the p-value, you can determine if there is a significant association between the groups and the outcomes. If the p-value is less than 0.05, it suggests that there is a significant association between the groups and the outcomes. If the p-value is greater than 0.05, it suggests that there is no significant association, and any observed differences are likely due to chance.\n",
    "\n",
    "'''"
   ]
  },
  {
   "cell_type": "code",
   "execution_count": 2,
   "id": "f7fa20b7-e805-4c1d-943d-08ab2b66500a",
   "metadata": {},
   "outputs": [
    {
     "data": {
      "text/plain": [
       "(0.09151638887130707, 0.1484836111286929)"
      ]
     },
     "execution_count": 2,
     "metadata": {},
     "output_type": "execute_result"
    }
   ],
   "source": [
    "import math\n",
    "from scipy.stats import norm\n",
    "\n",
    "# Given data\n",
    "n = 500\n",
    "num_smokers = 60\n",
    "\n",
    "# Sample proportion\n",
    "p_hat = num_smokers / n\n",
    "\n",
    "# Z-score for 95% confidence level\n",
    "z_score = norm.ppf(0.975)  # 0.975 because it is two-tailed (1.96)\n",
    "\n",
    "# Standard error\n",
    "se = math.sqrt((p_hat * (1 - p_hat)) / n)\n",
    "\n",
    "# Margin of error\n",
    "margin_of_error = z_score * se\n",
    "\n",
    "# Confidence interval\n",
    "ci_lower = p_hat - margin_of_error\n",
    "ci_upper = p_hat + margin_of_error\n",
    "\n",
    "(ci_lower, ci_upper)\n"
   ]
  },
  {
   "cell_type": "code",
   "execution_count": 3,
   "id": "0081ffd5-05a5-433a-883b-8a6296e65094",
   "metadata": {},
   "outputs": [
    {
     "data": {
      "text/plain": [
       "(71.39630625889797, 78.60369374110203)"
      ]
     },
     "execution_count": 3,
     "metadata": {},
     "output_type": "execute_result"
    }
   ],
   "source": [
    "import math\n",
    "from scipy.stats import norm\n",
    "\n",
    "# Given data\n",
    "mean = 75\n",
    "std_dev = 12\n",
    "n = 30\n",
    "\n",
    "# Z-score for 90% confidence level\n",
    "z_score = norm.ppf(0.95)  # 0.95 because it is two-tailed (1.645)\n",
    "\n",
    "# Standard error\n",
    "se = std_dev / math.sqrt(n)\n",
    "\n",
    "# Margin of error\n",
    "margin_of_error = z_score * se\n",
    "\n",
    "# Confidence interval\n",
    "ci_lower = mean - margin_of_error\n",
    "ci_upper = mean + margin_of_error\n",
    "\n",
    "(ci_lower, ci_upper)\n"
   ]
  },
  {
   "cell_type": "code",
   "execution_count": 4,
   "id": "480c0150-aa5a-4a03-9d37-4e0e840cc544",
   "metadata": {},
   "outputs": [
    {
     "data": {
      "image/png": "[encoded data removed]",
      "text/plain": [
       "<Figure size 640x480 with 1 Axes>"
      ]
     },
     "metadata": {},
     "output_type": "display_data"
    }
   ],
   "source": [
    "import numpy as np\n",
    "import matplotlib.pyplot as plt\n",
    "from scipy.stats import chi2\n",
    "\n",
    "# Degrees of freedom\n",
    "dof = 10\n",
    "\n",
    "# Chi-square statistic\n",
    "chi2_stat = 15\n",
    "\n",
    "# Plotting the chi-square distribution\n",
    "x = np.linspace(0, 30, 1000)\n",
    "y = chi2.pdf(x, dof)\n",
    "\n",
    "plt.plot(x, y, label='Chi-square distribution (df=10)')\n",
    "plt.fill_between(x, 0, y, where=(x <= chi2_stat), color='skyblue', alpha=0.5)\n",
    "plt.axvline(chi2_stat, color='red', linestyle='--', label=f'Chi2 statistic = {chi2_stat}')\n",
    "plt.title('Chi-square Distribution with 10 Degrees of Freedom')\n",
    "plt.xlabel('Chi-square value')\n",
    "plt.ylabel('Probability Density')\n",
    "plt.legend()\n",
    "plt.show()\n"
   ]
  },
  {
   "cell_type": "code",
   "execution_count": 5,
   "id": "d27b7977-ac53-4113-ab75-07d2864ab8fd",
   "metadata": {},
   "outputs": [
    {
     "data": {
      "text/plain": [
       "(0.4793051576779699, 0.5606948423220302)"
      ]
     },
     "execution_count": 5,
     "metadata": {},
     "output_type": "execute_result"
    }
   ],
   "source": [
    "import math\n",
    "from scipy.stats import norm\n",
    "\n",
    "# Given data\n",
    "n = 1000\n",
    "num_prefer_coke = 520\n",
    "\n",
    "# Sample proportion\n",
    "p_hat = num_prefer_coke / n\n",
    "\n",
    "# Z-score for 99% confidence level\n",
    "z_score = norm.ppf(0.995)  # 0.995 because it is two-tailed (2.576)\n",
    "\n",
    "# Standard error\n",
    "se = math.sqrt((p_hat * (1 - p_hat)) / n)\n",
    "\n",
    "# Margin of error\n",
    "margin_of_error = z_score * se\n",
    "\n",
    "# Confidence interval\n",
    "ci_lower = p_hat - margin_of_error\n",
    "ci_upper = p_hat + margin_of_error\n",
    "\n",
    "(ci_lower, ci_upper)\n"
   ]
  },
  {
   "cell_type": "markdown",
   "id": "e9ddb3a3-6e47-465e-92b0-53afaf942351",
   "metadata": {},
   "source": [
    "Q5: The 90% confidence interval will give us a range within which we are 90% confident that the true population mean lies. If the result is (71.61, 78.39), it means we are 90% confident that the population mean is between 71.61 and 78.39.\n",
    "\n",
    "\n",
    "Q6: The chi-square plot will show the probability density of chi-square values for 10 degrees of freedom, with the area corresponding to a chi-square statistic of 15 shaded. This helps visualize the distribution and the significance of the chi-square statistic.\n",
    "\n",
    "\n",
    "Q7: The 99% confidence interval will give us a range within which we are 99% confident that the true proportion of people who prefer Coke lies. If the result is (0.487, 0.5553), it means we are 99% confident that the true proportion is between 48.7% and 55.3%.\n",
    "\n",
    "\n",
    "\n",
    "\n",
    "\n"
   ]
  },
  {
   "cell_type": "markdown",
   "id": "b223ead0-ed1f-440c-9c36-106491a2a6fd",
   "metadata": {},
   "source": [
    "### Q8. Chi-Square Goodness of Fit Test for a Biased Coin\n",
    "\n",
    "A researcher hypothesizes that a coin is biased towards tails. They flip the coin 100 times and observe 45 tails. Conduct a chi-square goodness of fit test to determine if the observed frequencies match the expected frequencies of a fair coin. Use a significance level of 0.05.\n",
    "\n",
    "**Solution:**\n",
    "\n",
    "1. **Hypotheses:**\n",
    "   - \\( H_0 \\): The coin is fair (expected 50 tails in 100 flips).\n",
    "   - \\( H_1 \\): The coin is not fair.\n",
    "\n",
    "2. **Expected frequencies for a fair coin:**\n",
    "   - Heads: 50\n",
    "   - Tails: 50\n",
    "\n",
    "3. **Observed frequencies:**\n",
    "   - Heads: 55\n",
    "   - Tails: 45\n",
    "\n",
    "4. **Chi-Square Test:**\n",
    "\n",
    "```python\n",
    "from scipy.stats import chisquare\n",
    "\n",
    "# Observed frequencies\n",
    "observed = [55, 45]\n",
    "\n",
    "# Expected frequencies\n",
    "expected = [50, 50]\n",
    "\n",
    "# Perform chi-square test\n",
    "chi2_stat, p_value = chisquare(f_obs=observed, f_exp=expected)\n",
    "\n",
    "chi2_stat, p_value\n",
    "```\n",
    "\n",
    "Interpretation:\n",
    "- Compare the p-value to the significance level (0.05). If p-value < 0.05, reject \\( H_0 \\). Otherwise, do not reject \\( H_0 \\).\n",
    "\n",
    "### Q9. Chi-Square Test for Independence\n",
    "\n",
    "A study was conducted to determine if there is an association between smoking status (smoker or non-smoker) and lung cancer diagnosis (yes or no). The results are shown in the contingency table below. Conduct a chi-square test for independence to determine if there is a significant association between smoking status and lung cancer diagnosis.\n",
    "\n",
    "|                | Lung Cancer: Yes | Lung Cancer: No |\n",
    "|----------------|-------------------|-----------------|\n",
    "| Smoker         | 60                | 140             |\n",
    "| Non-smoker     | 30                | 170             |\n",
    "\n",
    "**Solution:**\n",
    "\n",
    "1. **Hypotheses:**\n",
    "   - \\( H_0 \\): Smoking status and lung cancer diagnosis are independent.\n",
    "   - \\( H_1 \\): Smoking status and lung cancer diagnosis are not independent.\n",
    "\n",
    "2. **Chi-Square Test:**\n",
    "\n",
    "```python\n",
    "import pandas as pd\n",
    "from scipy.stats import chi2_contingency\n",
    "\n",
    "# Contingency table\n",
    "data = [[60, 140],\n",
    "        [30, 170]]\n",
    "\n",
    "# Perform chi-square test\n",
    "chi2_stat, p_value, dof, expected = chi2_contingency(data)\n",
    "\n",
    "chi2_stat, p_value\n",
    "```\n",
    "\n",
    "Interpretation:\n",
    "- Compare the p-value to the significance level (0.05). If p-value < 0.05, reject \\( H_0 \\). Otherwise, do not reject \\( H_0 \\).\n",
    "\n",
    "### Q10. Chi-Square Test for Independence\n",
    "\n",
    "A study was conducted to determine if the proportion of people who prefer milk chocolate, dark chocolate, or white chocolate is different in the U.S. versus the U.K. A random sample of 500 people from the U.S. and 500 people from the U.K. were surveyed. Conduct a chi-square test for independence to determine if there is a significant association between chocolate preference and country of origin.\n",
    "\n",
    "|        | Milk Chocolate | Dark Chocolate | White Chocolate |\n",
    "|--------|----------------|----------------|-----------------|\n",
    "| U.S.   | 200            | 150            | 150             |\n",
    "| U.K.   | 225            | 175            | 100             |\n",
    "\n",
    "**Solution:**\n",
    "\n",
    "1. **Hypotheses:**\n",
    "   - \\( H_0 \\): Chocolate preference and country of origin are independent.\n",
    "   - \\( H_1 \\): Chocolate preference and country of origin are not independent.\n",
    "\n",
    "2. **Chi-Square Test:**\n",
    "\n",
    "```python\n",
    "import pandas as pd\n",
    "from scipy.stats import chi2_contingency\n",
    "\n",
    "# Contingency table\n",
    "data = [[200, 150, 150],\n",
    "        [225, 175, 100]]\n",
    "\n",
    "# Perform chi-square test\n",
    "chi2_stat, p_value, dof, expected = chi2_contingency(data)\n",
    "\n",
    "chi2_stat, p_value\n",
    "```\n",
    "\n",
    "Interpretation:\n",
    "- Compare the p-value to the significance level (0.01). If p-value < 0.01, reject \\( H_0 \\). Otherwise, do not reject \\( H_0 \\).\n",
    "\n",
    "### Q11. Hypothesis Test for a Population Mean\n",
    "\n",
    "A random sample of 30 people was selected from a population with an unknown mean and standard deviation. The sample mean was found to be 72 and the sample standard deviation was found to be 10. Conduct a hypothesis test to determine if the population mean is significantly different from 70. Use a significance level of 0.05.\n",
    "\n",
    "**Solution:**\n",
    "\n",
    "1. **Hypotheses:**\n",
    "   - \\( H_0 \\): \\(\\mu = 70\\)\n",
    "   - \\( H_1 \\): \\(\\mu \\neq 70\\)\n",
    "\n",
    "2. **Test Statistic:**\n",
    "\n",
    "We use a t-test for the sample mean:\n",
    "\n",
    "\\[ t = \\frac{\\bar{x} - \\mu}{s / \\sqrt{n}} \\]\n",
    "\n",
    "Where:\n",
    "- \\(\\bar{x}\\) = 72\n",
    "- \\(\\mu\\) = 70\n",
    "- \\(s\\) = 10\n",
    "- \\(n\\) = 30\n",
    "\n",
    "```python\n",
    "from scipy.stats import t\n",
    "\n",
    "# Given data\n",
    "sample_mean = 72\n",
    "population_mean = 70\n",
    "sample_std = 10\n",
    "n = 30\n",
    "\n",
    "# Calculate the t-statistic\n",
    "t_stat = (sample_mean - population_mean) / (sample_std / math.sqrt(n))\n",
    "\n",
    "# Degrees of freedom\n",
    "dof = n - 1\n",
    "\n",
    "# Calculate the p-value\n",
    "p_value = 2 * (1 - t.cdf(abs(t_stat), df=dof))\n",
    "\n",
    "t_stat, p_value\n",
    "```\n",
    "\n",
    "Interpretation:\n",
    "- Compare the p-value to the significance level (0.05). If p-value < 0.05, reject \\( H_0 \\). Otherwise, do not reject \\( H_0 \\)."
   ]
  },
  {
   "cell_type": "code",
   "execution_count": null,
   "id": "55bfbb0f-31d6-4753-93ec-e82a90d3fc9d",
   "metadata": {},
   "outputs": [],
   "source": []
  }
 ],
 "metadata": {
  "kernelspec": {
   "display_name": "Python 3 (ipykernel)",
   "language": "python",
   "name": "python3"
  },
  "language_info": {
   "codemirror_mode": {
    "name": "ipython",
    "version": 3
   },
   "file_extension": ".py",
   "mimetype": "text/x-python",
   "name": "python",
   "nbconvert_exporter": "python",
   "pygments_lexer": "ipython3",
   "version": "3.10.8"
  }
 },
 "nbformat": 4,
 "nbformat_minor": 5
}
