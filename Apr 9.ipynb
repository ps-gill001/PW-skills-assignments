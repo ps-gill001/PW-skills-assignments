{
 "cells": [
  {
   "cell_type": "markdown",
   "id": "ffaa67de-99af-4e2f-8b9c-f5c3a739aae3",
   "metadata": {},
   "source": [
    "\n",
    "**Given:**\n",
    "- Features: X1 and X2\n",
    "- Classes: A and B\n",
    "- New instance features: X1 = 3, X2 = 4\n",
    "- Prior probabilities for each class are assumed to be equal.\n",
    "\n",
    "**Frequency table:**\n",
    "```\n",
    "Class   X1=1  X1=2  X1=3  X2=1  X2=2  X2=3  X2=4\n",
    "A       3     3     4     4     3     3     3\n",
    "B       2     2     1     2     2     2     3\n",
    "```\n",
    "\n",
    "**Steps to classify using Naive Bayes:**\n",
    "\n",
    "1. **Calculate prior probabilities:**\n",
    "   Since prior probabilities are assumed to be equal:\n",
    "   \\( P(A) = P(B) = \\frac{1}{2} \\)\n",
    "\n",
    "2. **Calculate conditional probabilities:**\n",
    "   Use the frequency table to calculate conditional probabilities \\( P(X1|A) \\), \\( P(X2|A) \\), \\( P(X1|B) \\), and \\( P(X2|B) \\).\n",
    "\n",
    "   For instance:\n",
    "   - \\( P(X1=3 | A) = \\frac{4}{13} \\)\n",
    "   - \\( P(X2=4 | A) = \\frac{3}{13} \\)\n",
    "   - \\( P(X1=3 | B) = \\frac{1}{9} \\)\n",
    "   - \\( P(X2=4 | B) = \\frac{3}{9} \\)\n",
    "\n",
    "3. **Apply Naive Bayes classification:**\n",
    "   To classify a new instance \\( (X1=3, X2=4) \\):\n",
    "   - Calculate \\( P(A | X1=3, X2=4) \\) using Bayes' theorem:\n",
    "     \\[ P(A | X1=3, X2=4) \\propto P(X1=3 | A) \\cdot P(X2=4 | A) \\cdot P(A) \\]\n",
    "     \\[ P(A | X1=3, X2=4) = \\frac{P(X1=3 | A) \\cdot P(X2=4 | A) \\cdot P(A)}{P(X1=3) \\cdot P(X2=4)} \\]\n",
    "   \n",
    "   - Similarly, calculate \\( P(B | X1=3, X2=4) \\):\n",
    "     \\[ P(B | X1=3, X2=4) \\propto P(X1=3 | B) \\cdot P(X2=4 | B) \\cdot P(B) \\]\n",
    "     \\[ P(B | X1=3, X2=4) = \\frac{P(X1=3 | B) \\cdot P(X2=4 | B) \\cdot P(B)}{P(X1=3) \\cdot P(X2=4)} \\]\n",
    "\n",
    "4. **Compare and predict:**\n",
    "   - Normalize \\( P(A | X1=3, X2=4) \\) and \\( P(B | X1=3, X2=4) \\) such that \\( P(A | X1=3, X2=4) + P(B | X1=3, X2=4) = 1 \\).\n",
    "   - The class with the higher probability is the predicted class.\n",
    "\n",
    "**Calculation Example:**\n",
    "\n",
    "Given the prior probabilities are equal (\\( P(A) = P(B) = \\frac{1}{2} \\)):\n",
    "- \\( P(X1=3 | A) = \\frac{4}{13} \\)\n",
    "- \\( P(X2=4 | A) = \\frac{3}{13} \\)\n",
    "- \\( P(X1=3 | B) = \\frac{1}{9} \\)\n",
    "- \\( P(X2=4 | B) = \\frac{3}{9} \\)\n",
    "\n",
    "Then,\n",
    "- \\( P(A | X1=3, X2=4) \\propto \\frac{4}{13} \\cdot \\frac{3}{13} \\cdot \\frac{1}{2} \\)\n",
    "- \\( P(B | X1=3, X2=4) \\propto \\frac{1}{9} \\cdot \\frac{3}{9} \\cdot \\frac{1}{2} \\)\n",
    "\n",
    "Normalize these probabilities to get the final predictions.\n",
    "\n",
    "Without calculating exact values here, based on the probabilities derived, you would compare \\( P(A | X1=3, X2=4) \\) and \\( P(B | X1=3, X2=4) \\) to determine which one is higher, thus predicting the corresponding class.\n",
    "\n"
   ]
  },
  {
   "cell_type": "code",
   "execution_count": null,
   "id": "d8be8755-3889-4a38-9cec-bdcb0af8262c",
   "metadata": {},
   "outputs": [],
   "source": []
  }
 ],
 "metadata": {
  "kernelspec": {
   "display_name": "Python 3 (ipykernel)",
   "language": "python",
   "name": "python3"
  },
  "language_info": {
   "codemirror_mode": {
    "name": "ipython",
    "version": 3
   },
   "file_extension": ".py",
   "mimetype": "text/x-python",
   "name": "python",
   "nbconvert_exporter": "python",
   "pygments_lexer": "ipython3",
   "version": "3.10.8"
  }
 },
 "nbformat": 4,
 "nbformat_minor": 5
}
