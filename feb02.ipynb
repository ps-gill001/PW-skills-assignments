{
 "cells": [
  {
   "cell_type": "markdown",
   "id": "57d4e9c5-b81c-487d-acc3-eef77d254296",
   "metadata": {},
   "source": [
    "Q1. Characteristics of Tuples and Immutability\n",
    "Characteristics of Tuples:\n",
    "\n",
    "Ordered: Elements have a defined order, and this order will not change.\n",
    "Indexed: Elements can be accessed by their index.\n",
    "Immutable: Once created, the elements of a tuple cannot be changed.\n",
    "Allows Duplicate Elements: Tuples can have duplicate elements.\n",
    "Can Hold Multiple Data Types: Elements in a tuple can be of different data types.\n",
    "Is Tuple Immutable?\n",
    "\n",
    "Yes, tuples are immutable. This means that once a tuple is created, its elements cannot be changed, added, or removed."
   ]
  },
  {
   "cell_type": "markdown",
   "id": "ec006ca1-4ae9-49fb-acaf-d5fe5ee44a09",
   "metadata": {},
   "source": [
    "Q2. Tuple Methods and Comparison with Lists\n",
    "Two Tuple Methods:\n",
    "\n",
    "count(): Returns the number of times a specified value appears in the tuple."
   ]
  },
  {
   "cell_type": "code",
   "execution_count": null,
   "id": "bb6c6ee0-8ee2-47b8-9e8a-ef6a56c2c783",
   "metadata": {},
   "outputs": [],
   "source": [
    "t = (1, 2, 2, 3, 4, 2)\n",
    "print(t.count(2))  # Output: 3\n"
   ]
  },
  {
   "cell_type": "markdown",
   "id": "b08d575d-764e-49e7-ab14-baafad8aa155",
   "metadata": {},
   "source": [
    "index(): Searches the tuple for a specified value and returns the position of where it was found.\n",
    "\n"
   ]
  },
  {
   "cell_type": "code",
   "execution_count": 1,
   "id": "f02d247e-c698-4a5d-87a3-c240ee4fd349",
   "metadata": {},
   "outputs": [
    {
     "name": "stdout",
     "output_type": "stream",
     "text": [
      "2\n"
     ]
    }
   ],
   "source": [
    "t = (1, 2, 3, 4)\n",
    "print(t.index(3))  # Output: 2\n"
   ]
  },
  {
   "cell_type": "markdown",
   "id": "3f50b552-5425-45c2-9735-0956b4a9557f",
   "metadata": {},
   "source": [
    "Reason Tuples Have Fewer Methods:\n",
    "\n",
    "Tuples are immutable, so many methods that modify the contents (like append, remove, etc.) are not applicable.\n",
    "The limited methods reflect their intended use as fixed collections of items."
   ]
  },
  {
   "cell_type": "code",
   "execution_count": null,
   "id": "966017d8-a1c7-4552-96b9-7127a7ae3dec",
   "metadata": {},
   "outputs": [],
   "source": [
    "Q3. Collection Datatypes and Removing Duplicates Using Sets\n",
    "Collection Datatypes that Do Not Allow Duplicates:\n",
    "\n",
    "Sets.\n",
    "Code to Remove Duplicates Using a Set:"
   ]
  },
  {
   "cell_type": "code",
   "execution_count": null,
   "id": "5c512899-1c64-49bd-9528-ca9fb0c0a0ac",
   "metadata": {},
   "outputs": [],
   "source": [
    "my_list = [1, 1, 1, 2, 1, 3, 1, 4, 2, 1, 2, 2, 2, 3, 2, 4, 3, 1, 3, 2, 3, 3, 3, 4, 4, 1, 4, 2, 4, 3, 4, 4]\n",
    "unique_set = set(my_list)\n",
    "unique_list = list(unique_set)\n",
    "print(unique_list)  # Output: [1, 2, 3, 4]\n"
   ]
  },
  {
   "cell_type": "code",
   "execution_count": null,
   "id": "47c3cc73-e00a-4c3c-8925-4085a620cf83",
   "metadata": {},
   "outputs": [],
   "source": [
    "Q4. Union and Update Methods for Sets\n",
    "Difference Between union() and update():\n",
    "\n",
    "union(): Returns a new set with all items from both sets.\n",
    "update(): Adds all items from another set (or any iterable) to the existing set.\n",
    "Examples:\n",
    "\n",
    "union():"
   ]
  },
  {
   "cell_type": "code",
   "execution_count": null,
   "id": "a8c9f2da-c53a-4ed3-ab04-582013454863",
   "metadata": {},
   "outputs": [],
   "source": [
    "set1 = {1, 2, 3}\n",
    "set2 = {3, 4, 5}\n",
    "set3 = set1.union(set2)\n",
    "print(set3)  # Output: {1, 2, 3, 4, 5}\n"
   ]
  },
  {
   "cell_type": "code",
   "execution_count": null,
   "id": "c3c4caaa-f6dc-4571-830d-b4ef3a21f864",
   "metadata": {},
   "outputs": [],
   "source": [
    "update()"
   ]
  },
  {
   "cell_type": "code",
   "execution_count": null,
   "id": "e618c42f-f73a-4426-9117-9bcfecdcab49",
   "metadata": {},
   "outputs": [],
   "source": [
    "set1 = {1, 2, 3}\n",
    "set2 = {3, 4, 5}\n",
    "set1.update(set2)\n",
    "print(set1)  # Output: {1, 2, 3, 4, 5}\n"
   ]
  },
  {
   "cell_type": "code",
   "execution_count": null,
   "id": "2000a3b1-f236-4abf-9e1b-c2e3b370bb73",
   "metadata": {},
   "outputs": [],
   "source": [
    "Q5. Dictionary Characteristics\n",
    "What is a Dictionary?\n",
    "\n",
    "A dictionary is a collection of key-value pairs.\n",
    "Keys are unique, immutable, and must be of a hashable type (like strings, numbers, or tuples).\n",
    "Values can be of any type.\n",
    "Example:"
   ]
  },
  {
   "cell_type": "code",
   "execution_count": 2,
   "id": "bd900281-c454-4a3f-9012-adcd03ebc974",
   "metadata": {},
   "outputs": [
    {
     "name": "stdout",
     "output_type": "stream",
     "text": [
      "{'name': 'Alice', 'age': 25, 'city': 'New York'}\n"
     ]
    }
   ],
   "source": [
    "my_dict = {'name': 'Alice', 'age': 25, 'city': 'New York'}\n",
    "print(my_dict)\n",
    "\n",
    "#Is a Dictionary Ordered or Unordered?\n",
    "\n",
    "# dictionaries are ordered collections. In earlier versions, they were unordered."
   ]
  },
  {
   "cell_type": "code",
   "execution_count": null,
   "id": "3ec6ecfc-78bc-45d7-8f22-93809c612bdb",
   "metadata": {},
   "outputs": [],
   "source": [
    "Q6. Creating a Nested Dictionary\n",
    "Nested Dictionary Example:"
   ]
  },
  {
   "cell_type": "code",
   "execution_count": null,
   "id": "ffd6b334-e86d-4b4e-8079-ea1549f92e12",
   "metadata": {},
   "outputs": [],
   "source": [
    "nested_dict = {\n",
    "    'name': 'Alice',\n",
    "    'details': {\n",
    "        'age': 25,\n",
    "        'city': 'New York'\n",
    "    }\n",
    "}\n",
    "print(nested_dict)\n"
   ]
  },
  {
   "cell_type": "code",
   "execution_count": null,
   "id": "6769ec87-19e2-4b58-b44d-8347cc21325d",
   "metadata": {},
   "outputs": [],
   "source": [
    "Q7. Using setdefault() Method\n",
    "Example:"
   ]
  },
  {
   "cell_type": "code",
   "execution_count": null,
   "id": "b06e1fd0-a49c-44d7-bf6a-8fbedec01e51",
   "metadata": {},
   "outputs": [],
   "source": [
    "dict1 = {'language': 'Python', 'course': 'Data Science Masters'}\n",
    "dict1.setdefault('topics', ['Python', 'Machine Learning', 'Deep Learning'])\n",
    "print(dict1)\n",
    "# Output: {'language': 'Python', 'course': 'Data Science Masters', 'topics': ['Python', 'Machine Learning', 'Deep Learning']}\n"
   ]
  },
  {
   "cell_type": "code",
   "execution_count": null,
   "id": "ad7fb52c-a710-464e-b4b5-24828430045c",
   "metadata": {},
   "outputs": [],
   "source": [
    "'''Q8. View Objects in Dictionaries\n",
    "Three View Objects:\n",
    "\n",
    "keys(): Returns a view object of all the keys.\n",
    "values(): Returns a view object of all the values.\n",
    "items(): Returns a view object of all key-value pairs.\n",
    "Examples Using the Given Dictionary:'''\n",
    "\n",
    "dict1 = {'Sport': 'Cricket', 'Teams': ['India', 'Australia', 'England', 'South Africa', 'Sri Lanka', 'New Zealand']}\n",
    "\n",
    "# keys()\n",
    "print(dict1.keys())  # Output: dict_keys(['Sport', 'Teams'])\n",
    "\n",
    "# values()\n",
    "print(dict1.values())  # Output: dict_values(['Cricket', ['India', 'Australia', 'England', 'South Africa', 'Sri Lanka', 'New Zealand']])\n",
    "\n",
    "# items()\n",
    "print(dict1.items())  # Output: dict_items([('Sport', 'Cricket'), ('Teams', ['India', 'Australia', 'England', 'South Africa', 'Sri Lanka', 'New Zealand'])])\n"
   ]
  }
 ],
 "metadata": {
  "kernelspec": {
   "display_name": "Python 3 (ipykernel)",
   "language": "python",
   "name": "python3"
  },
  "language_info": {
   "codemirror_mode": {
    "name": "ipython",
    "version": 3
   },
   "file_extension": ".py",
   "mimetype": "text/x-python",
   "name": "python",
   "nbconvert_exporter": "python",
   "pygments_lexer": "ipython3",
   "version": "3.10.8"
  }
 },
 "nbformat": 4,
 "nbformat_minor": 5
}
