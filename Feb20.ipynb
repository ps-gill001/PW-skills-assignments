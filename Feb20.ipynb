{
 "cells": [
  {
   "cell_type": "markdown",
   "id": "4e1fb989-fe1e-4bc8-8130-25e536d571e1",
   "metadata": {},
   "source": [
    "Q1. Explain GET and POST Methods\n",
    "GET Method:\n",
    "\n",
    "Purpose: Used to request data from a server.\n",
    "Characteristics:\n",
    "Data is sent in the URL as query parameters.\n",
    "Typically used for retrieving data without causing any side effects.\n",
    "Can be bookmarked and cached.\n",
    "Limited in length due to URL length restrictions.\n",
    "Example: Accessing a webpage or searching on a search engine.\n",
    "POST Method:\n",
    "\n",
    "Purpose: Used to send data to a server to create or update resources.\n",
    "Characteristics:\n",
    "Data is sent in the request body, not in the URL.\n",
    "Typically used for submitting forms, uploading files, or any action that modifies data on the server.\n",
    "Not cached or bookmarked.\n",
    "No size limitations on the data being sent.\n",
    "Example: Submitting a login form or uploading a file.\n",
    "Q2. Why is request Used in Flask?\n",
    "In Flask, the request object is used to access the incoming request data. It provides properties and methods to inspect the request sent by the client. Some common use cases include:\n",
    "\n",
    "Accessing form data: request.form\n",
    "Accessing query parameters: request.args\n",
    "Accessing JSON data: request.json\n",
    "Checking the request method: request.method\n",
    "Accessing headers: request.headers\n",
    "Example:"
   ]
  },
  {
   "cell_type": "code",
   "execution_count": null,
   "id": "e7db7646-8270-4c31-9c48-0e918aa292b0",
   "metadata": {},
   "outputs": [],
   "source": [
    "from flask import Flask, request\n",
    "\n",
    "app = Flask(__name__)\n",
    "\n",
    "@app.route('/submit', methods=['POST'])\n",
    "def submit():\n",
    "    name = request.form.get('name')\n",
    "    return f'Hello, {name}'\n",
    "\n",
    "if __name__ == '__main__':\n",
    "    app.run(debug=True)\n"
   ]
  },
  {
   "cell_type": "code",
   "execution_count": null,
   "id": "e9d61a19-5eca-49b9-8f22-e4bd8dffc9bf",
   "metadata": {},
   "outputs": [],
   "source": [
    "'''Q3. Why is redirect() Used in Flask?\n",
    "The redirect() function in Flask is used to redirect the client to a different URL. It is often used after a form submission or any action that should lead the user to a different page.\n",
    "\n",
    "Example'''\n",
    "\n",
    "from flask import Flask, redirect, url_for\n",
    "\n",
    "app = Flask(__name__)\n",
    "\n",
    "@app.route('/')\n",
    "def index():\n",
    "    return 'This is the index page.'\n",
    "\n",
    "@app.route('/login')\n",
    "def login():\n",
    "    return 'This is the login page.'\n",
    "\n",
    "@app.route('/submit', methods=['POST'])\n",
    "def submit():\n",
    "    # Some form processing logic\n",
    "    return redirect(url_for('index'))\n",
    "\n",
    "if __name__ == '__main__':\n",
    "    app.run(debug=True)\n"
   ]
  },
  {
   "cell_type": "code",
   "execution_count": null,
   "id": "6152cc07-fa3d-4e4f-a7be-c6c8ff5e2aeb",
   "metadata": {},
   "outputs": [],
   "source": [
    "Q4. What are Templates in Flask? Why is the render_template() Function Used?\n",
    "Templates:\n",
    "\n",
    "Templates in Flask are used to generate dynamic HTML content. Flask uses the Jinja2 template engine to render templates.\n",
    "Templates allow you to embed Python-like expressions within HTML to create dynamic content.\n",
    "render_template() Function:\n",
    "\n",
    "The render_template() function is used to render an HTML template and return it as a response to the client.\n",
    "It takes the name of the template file and any context variables you want to pass to the template.\n",
    "Example:"
   ]
  },
  {
   "cell_type": "code",
   "execution_count": null,
   "id": "2098c24d-5cf1-4be4-ad56-685017a1462f",
   "metadata": {},
   "outputs": [],
   "source": [
    "from flask import Flask, render_template\n",
    "\n",
    "app = Flask(__name__)\n",
    "\n",
    "@app.route('/')\n",
    "def index():\n",
    "    return render_template('index.html', title='Home Page')\n",
    "\n",
    "if __name__ == '__main__':\n",
    "    app.run(debug=True)\n"
   ]
  },
  {
   "cell_type": "code",
   "execution_count": null,
   "id": "53397758-a92d-4df7-98d7-728427f34c93",
   "metadata": {},
   "outputs": [],
   "source": [
    "'''Q5. Create a Simple API and Test it with Postman\n",
    "app.py:'''\n",
    "\n",
    "from flask import Flask, jsonify, request\n",
    "\n",
    "app = Flask(__name__)\n",
    "\n",
    "@app.route('/api/greet', methods=['POST'])\n",
    "def greet():\n",
    "    data = request.json\n",
    "    name = data.get('name')\n",
    "    return jsonify(message=f'Hello, {name}!')\n",
    "\n",
    "if __name__ == '__main__':\n",
    "    app.run(debug=True)\n",
    "\n",
    "    '''Testing with Postman:\n",
    "\n",
    "Open Postman.\n",
    "Set the request method to POST.\n",
    "Enter the URL: http://127.0.0.1:5000/api/greet.\n",
    "In the body tab, select raw and JSON format.\n",
    "Enter the JSON data'''\n",
    "    \n",
    "{\n",
    "    \"name\": \"John\"\n",
    "}\n",
    "\n",
    "#Click Send\n",
    "    "
   ]
  },
  {
   "cell_type": "code",
   "execution_count": null,
   "id": "d5fb34cb-0c28-48d8-affe-5959ca4bef23",
   "metadata": {},
   "outputs": [],
   "source": []
  },
  {
   "cell_type": "code",
   "execution_count": null,
   "id": "9d2ddd82-2a7a-402f-b124-719f17868f72",
   "metadata": {},
   "outputs": [],
   "source": []
  }
 ],
 "metadata": {
  "kernelspec": {
   "display_name": "Python 3 (ipykernel)",
   "language": "python",
   "name": "python3"
  },
  "language_info": {
   "codemirror_mode": {
    "name": "ipython",
    "version": 3
   },
   "file_extension": ".py",
   "mimetype": "text/x-python",
   "name": "python",
   "nbconvert_exporter": "python",
   "pygments_lexer": "ipython3",
   "version": "3.10.8"
  }
 },
 "nbformat": 4,
 "nbformat_minor": 5
}
