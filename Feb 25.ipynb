{
 "cells": [
  {
   "cell_type": "markdown",
   "id": "41dd9ba3-c0e3-4bc8-a21a-55775fa39496",
   "metadata": {},
   "source": [
    "Consider following code to answer further questions:\n",
    "\n",
    "import pandas as pd\n",
    "\n",
    "course_name = [‘Data Science’, ‘Machine Learning’, ‘Big Data’, ‘Data Engineer’]\n",
    "\n",
    "duration = [2,3,6,4]\n",
    "\n",
    "df = pd.DataFrame(data = {‘course_name’ : course_name, ‘duration’ : duration})"
   ]
  },
  {
   "cell_type": "code",
   "execution_count": 7,
   "id": "3f37ab63-8e2b-4dcf-bb0c-859a175f58ce",
   "metadata": {},
   "outputs": [
    {
     "name": "stdout",
     "output_type": "stream",
     "text": [
      "course_name    Machine Learning\n",
      "duration                      3\n",
      "Name: 1, dtype: object\n"
     ]
    }
   ],
   "source": [
    "#Q1. Write a code to print the data present in the second row of the dataframe, df.\n",
    "import pandas as pd\n",
    "\n",
    "course_name = ['Data Science', 'Machine Learning', 'Big Data', 'Data Engineer']\n",
    "\n",
    "duration = [2,3,6,4]\n",
    "\n",
    "df = pd.DataFrame(data = {'course_name' : course_name, 'duration' : duration})\n",
    "print(df.iloc[1,])"
   ]
  },
  {
   "cell_type": "raw",
   "id": "4310c4ed-14f4-4347-9af0-fd34b010f065",
   "metadata": {},
   "source": [
    "Q2. What is the difference between the functions loc and iloc in pandas.DataFrame?\n",
    "\n",
    "Key Differences:\n",
    "Indexing Method:\n",
    "\n",
    "loc uses labels (can be strings, integers, or boolean arrays).\n",
    "iloc uses integer positions.\n",
    "Endpoint Inclusion:\n",
    "\n",
    "loc includes the endpoint when slicing.\n",
    "iloc excludes the endpoint when slicing.\n",
    "Type of Input:\n",
    "\n",
    "loc can take label-based inputs and boolean arrays.\n",
    "iloc strictly takes integer-based inputs."
   ]
  },
  {
   "cell_type": "raw",
   "id": "c7451dd8-9bb0-4f1d-8443-83590d2ac07b",
   "metadata": {},
   "source": [
    "Q3. Reindex the given dataframe using a variable, reindex = [3,0,1,2] and store it in the variable, new_df\n",
    "then find the output for both new_df.loc[2] and new_df.iloc[2].\n",
    "Did you observe any difference in both the outputs? If so then explain it.\n",
    "\n",
    "Consider the below code to answer further questions:\n",
    "import pandas as pd\n",
    "\n",
    "import numpy as np\n",
    "\n",
    "columns = ['column_1', 'column_2', 'column_3', 'column_4', 'column_5', 'column_6']\n",
    "\n",
    "indices = [1,2,3,4,5,6]\n",
    "\n",
    "#Creating a dataframe:\n",
    "\n",
    "df1 = pd.DataFrame(np.random.rand(6,6), columns = columns, index = indices)"
   ]
  },
  {
   "cell_type": "code",
   "execution_count": 9,
   "id": "c279973e-919c-42c1-bab1-346629acb80b",
   "metadata": {},
   "outputs": [],
   "source": [
    "\n",
    "import pandas as pd\n",
    "\n",
    "import numpy as np\n",
    "\n",
    "columns = ['column_1', 'column_2', 'column_3', 'column_4', 'column_5', 'column_6']\n",
    "\n",
    "indices = [1,2,3,4,5,6]\n",
    "\n",
    "#Creating a dataframe:\n",
    "\n",
    "df1 = pd.DataFrame(np.random.rand(6,6), columns = columns, index = indices)\n",
    "reindex = [3, 0, 1, 2]\n",
    "new_df = df1.reindex(reindex)\n",
    "loc_out = new_df.loc[2]\n",
    "iloc_out = new_df.iloc[2]"
   ]
  },
  {
   "cell_type": "code",
   "execution_count": 10,
   "id": "1a40b407-216d-4878-b53e-7fe504c48ec9",
   "metadata": {},
   "outputs": [
    {
     "data": {
      "text/plain": [
       "column_1    0.054378\n",
       "column_2    0.138075\n",
       "column_3    0.718353\n",
       "column_4    0.579766\n",
       "column_5    0.469628\n",
       "column_6    0.156217\n",
       "Name: 2, dtype: float64"
      ]
     },
     "execution_count": 10,
     "metadata": {},
     "output_type": "execute_result"
    }
   ],
   "source": [
    "loc_out"
   ]
  },
  {
   "cell_type": "code",
   "execution_count": 12,
   "id": "a317bd86-c149-4f21-bd3b-9ba35af2db0f",
   "metadata": {},
   "outputs": [
    {
     "data": {
      "text/html": [
       "<div>\n",
       "<style scoped>\n",
       "    .dataframe tbody tr th:only-of-type {\n",
       "        vertical-align: middle;\n",
       "    }\n",
       "\n",
       "    .dataframe tbody tr th {\n",
       "        vertical-align: top;\n",
       "    }\n",
       "\n",
       "    .dataframe thead th {\n",
       "        text-align: right;\n",
       "    }\n",
       "</style>\n",
       "<table border=\"1\" class=\"dataframe\">\n",
       "  <thead>\n",
       "    <tr style=\"text-align: right;\">\n",
       "      <th></th>\n",
       "      <th>column_1</th>\n",
       "      <th>column_2</th>\n",
       "      <th>column_3</th>\n",
       "      <th>column_4</th>\n",
       "      <th>column_5</th>\n",
       "      <th>column_6</th>\n",
       "    </tr>\n",
       "  </thead>\n",
       "  <tbody>\n",
       "    <tr>\n",
       "      <th>3</th>\n",
       "      <td>0.040850</td>\n",
       "      <td>0.714390</td>\n",
       "      <td>0.955817</td>\n",
       "      <td>0.013061</td>\n",
       "      <td>0.796992</td>\n",
       "      <td>0.392260</td>\n",
       "    </tr>\n",
       "    <tr>\n",
       "      <th>0</th>\n",
       "      <td>NaN</td>\n",
       "      <td>NaN</td>\n",
       "      <td>NaN</td>\n",
       "      <td>NaN</td>\n",
       "      <td>NaN</td>\n",
       "      <td>NaN</td>\n",
       "    </tr>\n",
       "    <tr>\n",
       "      <th>1</th>\n",
       "      <td>0.046074</td>\n",
       "      <td>0.639429</td>\n",
       "      <td>0.699390</td>\n",
       "      <td>0.601491</td>\n",
       "      <td>0.850752</td>\n",
       "      <td>0.701149</td>\n",
       "    </tr>\n",
       "    <tr>\n",
       "      <th>2</th>\n",
       "      <td>0.054378</td>\n",
       "      <td>0.138075</td>\n",
       "      <td>0.718353</td>\n",
       "      <td>0.579766</td>\n",
       "      <td>0.469628</td>\n",
       "      <td>0.156217</td>\n",
       "    </tr>\n",
       "  </tbody>\n",
       "</table>\n",
       "</div>"
      ],
      "text/plain": [
       "   column_1  column_2  column_3  column_4  column_5  column_6\n",
       "3  0.040850  0.714390  0.955817  0.013061  0.796992  0.392260\n",
       "0       NaN       NaN       NaN       NaN       NaN       NaN\n",
       "1  0.046074  0.639429  0.699390  0.601491  0.850752  0.701149\n",
       "2  0.054378  0.138075  0.718353  0.579766  0.469628  0.156217"
      ]
     },
     "execution_count": 12,
     "metadata": {},
     "output_type": "execute_result"
    }
   ],
   "source": [
    "new_df"
   ]
  },
  {
   "cell_type": "code",
   "execution_count": 11,
   "id": "0c4936b9-182c-46e0-a459-9be329ba523e",
   "metadata": {},
   "outputs": [
    {
     "data": {
      "text/plain": [
       "column_1    0.046074\n",
       "column_2    0.639429\n",
       "column_3    0.699390\n",
       "column_4    0.601491\n",
       "column_5    0.850752\n",
       "column_6    0.701149\n",
       "Name: 1, dtype: float64"
      ]
     },
     "execution_count": 11,
     "metadata": {},
     "output_type": "execute_result"
    }
   ],
   "source": [
    "iloc_out"
   ]
  },
  {
   "cell_type": "raw",
   "id": "f22c872a-e4db-4d49-b48c-cdb9c20fd06e",
   "metadata": {},
   "source": [
    "Explanation:\n",
    "new_df.loc[2]: This selects the row from new_df where the index label is 2.\n",
    "new_df.iloc[2]: This selects the third row from new_df by its integer position, which is 2 (zero-based index).\n",
    "Given the reindexing [3, 0, 1, 2], the indices of new_df are now [3, NaN, 1, 2]. Here, index 0 does not exist in the original DataFrame, resulting in a row with all NaN values for that position in new_df"
   ]
  },
  {
   "cell_type": "raw",
   "id": "bf53049b-c669-48af-85ed-58cf91fa323c",
   "metadata": {},
   "source": [
    "Q4. Write a code to find the following statistical measurements for the above dataframe df1:\n",
    "\n",
    "(i) mean of each and every column present in the dataframe.\n",
    "\n",
    "(ii) standard deviation of column, ‘column_2’\n",
    "\n"
   ]
  },
  {
   "cell_type": "code",
   "execution_count": 5,
   "id": "d0fa6dd8-33dd-4206-837f-afeca5e1a36b",
   "metadata": {},
   "outputs": [
    {
     "name": "stdout",
     "output_type": "stream",
     "text": [
      "column_1    0.272194\n",
      "column_2    0.429794\n",
      "column_3    0.306947\n",
      "column_4    0.300420\n",
      "column_5    0.374510\n",
      "column_6    0.401913\n",
      "dtype: float64\n"
     ]
    },
    {
     "data": {
      "text/plain": [
       "0.20762451920743835"
      ]
     },
     "execution_count": 5,
     "metadata": {},
     "output_type": "execute_result"
    }
   ],
   "source": [
    "import pandas as pd\n",
    "\n",
    "import numpy as np\n",
    "\n",
    "columns = ['column_1', 'column_2', 'column_3', 'column_4', 'column_5', 'column_6']\n",
    "\n",
    "indices = [1,2,3,4,5,6]\n",
    "\n",
    "#Creating a dataframe:\n",
    "\n",
    "df1 = pd.DataFrame(np.random.rand(6,6), columns = columns, index = indices)\n",
    "mean = df1[['column_1','column_2','column_3','column_4','column_5','column_6']].mean()\n",
    "print(mean)\n",
    "\n",
    "#standard deviation\n",
    "\n",
    "df1.column_2.std()"
   ]
  },
  {
   "cell_type": "raw",
   "id": "753d06f6-cee3-4655-a638-daae935d94a2",
   "metadata": {},
   "source": [
    "Q5. Replace the data present in the second row of column, ‘column_2’ by a string variable then find the\n",
    "mean of column, column_2.\n",
    "\n",
    "If you are getting errors in executing it then explain why.\n",
    "\n",
    "[Hint: To replace the data use df1.loc[] and equate this to string data of your choice.]\n",
    "\n"
   ]
  },
  {
   "cell_type": "raw",
   "id": "9f8255f6-7e06-4571-844d-1086fc6e749a",
   "metadata": {},
   "source": [
    "df1.loc[2,'column_2'] = 'String variable'\n",
    "df1['column_2'].mean()\n",
    "\n",
    "'''If you attempt to calculate the mean of column 'column_2' after replacing its numerical data with a string variable, you may encounter an error. This is because pandas cannot calculate the mean of a column containing non-numeric data'''"
   ]
  },
  {
   "cell_type": "raw",
   "id": "4e69cf79-12c0-4831-a498-c9e8c9593b50",
   "metadata": {},
   "source": [
    "Q6. What do you understand about the windows function in pandas and list the types of windows\n",
    "functions?\n",
    "\n",
    "In pandas, window functions are used for performing calculations on a set of data points within a specified window or range. These functions are particularly useful for tasks such as calculating moving averages, cumulative sums, or aggregating data over rolling windows.\n",
    "\n",
    "Window functions operate by defining a window or a subset of data points over which the calculation is performed. The window can be defined based on either the index (time-based) or a specified number of preceding or following rows.\n",
    "\n",
    "Some common types of window functions in pandas include:\n",
    "\n",
    "rolling(): This function is used to create a rolling window object over a DataFrame or Series. It allows you to perform calculations like mean, sum, min, max, etc., over a specified window size.\n",
    "\n",
    "expanding(): This function creates an expanding window object that grows with the size of the dataset. It calculates cumulative statistics (e.g., cumulative sum, mean) for all data points seen so far.\n",
    "\n",
    "ewm(): The exponentially weighted moving average (EWMA) function calculates a weighted average where more recent data points are given higher weights. It's useful for smoothing out short-term fluctuations and emphasizing recent trends in time series data.\n",
    "\n",
    "groupby().rolling(): This combines the groupby() operation with the rolling() window function, allowing you to calculate rolling statistics within each group of data.\n",
    "\n",
    "groupby().expanding(): Similar to groupby().rolling(), this combines the groupby() operation with the expanding() window function to calculate expanding statistics within each group of data.\n",
    "\n",
    "These window functions provide powerful capabilities for analyzing and manipulating time series and sequential data in pandas. They are widely used in financial analysis, signal processing, and various other domains where temporal patterns or trends are important.\n"
   ]
  },
  {
   "cell_type": "code",
   "execution_count": 15,
   "id": "13594d3c-6c99-4621-a3b1-02ac19c37842",
   "metadata": {},
   "outputs": [
    {
     "name": "stdout",
     "output_type": "stream",
     "text": [
      "5 2024\n"
     ]
    }
   ],
   "source": [
    "'''Q7. Write a code to print only the current month and year at the time of answering this question.\n",
    "\n",
    "[Hint: Use pandas.datetime function]'''\n",
    "\n",
    "from datetime import datetime\n",
    "date = pd.Timestamp(datetime.now())\n",
    "cur_month = date.month\n",
    "cur_year = date.year\n",
    "print(cur_month, cur_year)"
   ]
  },
  {
   "cell_type": "raw",
   "id": "d4835c3c-da41-4d7d-9b73-d2b19dacf5cb",
   "metadata": {},
   "source": [
    "Write a Python program that takes in two dates as input (in the format YYYY-MM-DD) and\n",
    "calculates the difference between them in days, hours, and minutes using Pandas time delta. The\n",
    "program should prompt the user to enter the dates and display the result."
   ]
  },
  {
   "cell_type": "code",
   "execution_count": 20,
   "id": "54f6758b-5c2c-40f5-8ef9-db8830eae569",
   "metadata": {},
   "outputs": [
    {
     "name": "stdin",
     "output_type": "stream",
     "text": [
      "enter date 2001-05-22\n",
      "enter date 2001-06-22\n"
     ]
    },
    {
     "name": "stdout",
     "output_type": "stream",
     "text": [
      "Difference: 31 days, 0 hours, and 0 minutes,0 seconds\n"
     ]
    }
   ],
   "source": [
    "def diff(date1,date2):\n",
    "    date1 = pd.Timestamp(date1)\n",
    "    date2 = pd.Timestamp(date2)\n",
    "    date_dif = date2 - date1\n",
    "    \n",
    "    days = date_dif.days\n",
    "    seconds = date_dif.seconds\n",
    "    hour = seconds//3600\n",
    "    minutes = (seconds % 3600)//60\n",
    "    \n",
    "    return days,seconds,hour,minutes\n",
    "\n",
    "date1 = input(\"enter date\")\n",
    "date2 = input(\"enter date\")\n",
    "\n",
    "days,hours,minutes,seconds = diff(date1,date2)\n",
    "print(f\"Difference: {days} days, {hours} hours, and {minutes} minutes,{seconds} seconds\")"
   ]
  },
  {
   "cell_type": "code",
   "execution_count": null,
   "id": "a9c7a909-e4d4-4ea4-bf9e-a334eae1e87d",
   "metadata": {},
   "outputs": [],
   "source": [
    "#Q9\n",
    "import pandas as pd\n",
    "\n",
    "def convert_to_categorical():\n",
    "    # Prompt user for file path and column details\n",
    "    file_path = input(\"Enter the file path: \")\n",
    "    column_name = input(\"Enter the column name to convert to categorical: \")\n",
    "    categories = input(\"Enter the category order, separated by commas: \").split(',')\n",
    "\n",
    "    # Read the CSV file\n",
    "    df = pd.read_csv(file_path)\n",
    "\n",
    "    # Convert the specified column to categorical type with the given category order\n",
    "    df[column_name] = pd.Categorical(df[column_name], categories=categories, ordered=True)\n",
    "\n",
    "    # Sort the DataFrame by the categorical column\n",
    "    df = df.sort_values(by=column_name)\n",
    "\n",
    "    # Display the sorted DataFrame\n",
    "    print(df)\n",
    "\n",
    "convert_to_categorical()\n"
   ]
  },
  {
   "cell_type": "code",
   "execution_count": null,
   "id": "b3bbcf1d-e84a-4148-9462-144151af1623",
   "metadata": {},
   "outputs": [],
   "source": [
    "import pandas as pd\n",
    "import matplotlib.pyplot as plt\n",
    "\n",
    "def visualize_sales_data():\n",
    "    # Prompt user for file path\n",
    "    file_path = input(\"Enter the file path: \")\n",
    "\n",
    "    # Read the CSV file\n",
    "    df = pd.read_csv(file_path)\n",
    "\n",
    "    # Assume the CSV has columns 'Date', 'Product', and 'Sales'\n",
    "    # Pivot the data for stacked bar chart\n",
    "    pivot_df = df.pivot_table(index='Date', columns='Product', values='Sales', aggfunc='sum')\n",
    "\n",
    "    # Plot the stacked bar chart\n",
    "    pivot_df.plot(kind='bar', stacked=True)\n",
    "\n",
    "    # Set the labels and title\n",
    "    plt.xlabel('Date')\n",
    "    plt.ylabel('Sales')\n",
    "    plt.title('Sales of Each Product Category Over Time')\n",
    "\n",
    "    # Display the chart\n",
    "    plt.show()\n",
    "\n",
    "visualize_sales_data()\n"
   ]
  },
  {
   "cell_type": "code",
   "execution_count": null,
   "id": "e7838413-decc-44a4-aab5-40daa2270272",
   "metadata": {},
   "outputs": [],
   "source": [
    "import pandas as pd\n",
    "\n",
    "def analyze_student_data():\n",
    "    # Prompt user for file path\n",
    "    file_path = input(\"Enter the file path: \")\n",
    "\n",
    "    # Read the CSV file\n",
    "    df = pd.read_csv(file_path)\n",
    "\n",
    "    # Calculate mean, median, and mode of the test scores\n",
    "    mean_score = df['Test Score'].mean()\n",
    "    median_score = df['Test Score'].median()\n",
    "    mode_score = df['Test Score'].mode()[0]\n",
    "\n",
    "    # Display the results in a table\n",
    "    result = pd.DataFrame({\n",
    "        'Statistic': ['Mean', 'Median', 'Mode'],\n",
    "        'Value': [mean_score, median_score, mode_score]\n",
    "    })\n",
    "\n",
    "    print(result)\n",
    "\n",
    "analyze_student_data()\n"
   ]
  }
 ],
 "metadata": {
  "kernelspec": {
   "display_name": "Python 3 (ipykernel)",
   "language": "python",
   "name": "python3"
  },
  "language_info": {
   "codemirror_mode": {
    "name": "ipython",
    "version": 3
   },
   "file_extension": ".py",
   "mimetype": "text/x-python",
   "name": "python",
   "nbconvert_exporter": "python",
   "pygments_lexer": "ipython3",
   "version": "3.10.8"
  }
 },
 "nbformat": 4,
 "nbformat_minor": 5
}
