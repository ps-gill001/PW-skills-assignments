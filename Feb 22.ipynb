{
 "cells": [
  {
   "cell_type": "code",
   "execution_count": 1,
   "id": "b105a985-320c-4f92-aa23-46d16e14df8d",
   "metadata": {},
   "outputs": [
    {
     "name": "stdout",
     "output_type": "stream",
     "text": [
      "0     4\n",
      "1     8\n",
      "2    15\n",
      "3    16\n",
      "4    23\n",
      "5    42\n",
      "dtype: int64\n"
     ]
    }
   ],
   "source": [
    "#Q1. Create a Pandas Series that contains the following data: 4, 8, 15, 16, 23, and 42. Then, print the series.\n",
    "\n",
    "import pandas as pd\n",
    "ds = pd.Series([4, 8, 15, 16, 23, 42])\n",
    "print(ds)"
   ]
  },
  {
   "cell_type": "code",
   "execution_count": 2,
   "id": "55c5dc7f-607d-4ef2-8d0f-413d09f26ab1",
   "metadata": {},
   "outputs": [
    {
     "name": "stdout",
     "output_type": "stream",
     "text": [
      "0        1\n",
      "1        4\n",
      "2        5\n",
      "3    hello\n",
      "4     True\n",
      "5        4\n",
      "6        6\n",
      "7        7\n",
      "8        3\n",
      "9       10\n",
      "dtype: object\n"
     ]
    }
   ],
   "source": [
    "'''2 Create a variable of list type containing 10 elements in it, and apply pandas.Series function on the\n",
    "variable print it.'''\n",
    "\n",
    "list1 = [1, 4, 5, 'hello', True, 4, 6, 7, 3, 10]\n",
    "ds = pd.Series(list1)\n",
    "print(ds)"
   ]
  },
  {
   "cell_type": "code",
   "execution_count": 3,
   "id": "e9bfc195-8829-4a73-bdac-4cde75cb61d2",
   "metadata": {},
   "outputs": [
    {
     "name": "stdout",
     "output_type": "stream",
     "text": [
      "     Name  Age  Gender\n",
      "0   Alice   25  Female\n",
      "1     Bob   30    Male\n",
      "2  Claire   27  Female\n"
     ]
    }
   ],
   "source": [
    "#Q3. Create a Pandas DataFrame that contains the following data\n",
    "\n",
    "x1 = ['Alice', 'Bob', 'Claire']\n",
    "x2 = [25, 30, 27]\n",
    "x3 = ['Female', 'Male', 'Female']\n",
    "df = pd.DataFrame(columns = ['Name', 'Age', 'Gender'])\n",
    "\n",
    "df['Name'] = x1\n",
    "df['Age'] = x2\n",
    "df['Gender'] = x3\n",
    "\n",
    "print(df)"
   ]
  },
  {
   "cell_type": "markdown",
   "id": "bdb0d209-5d0c-488a-ac96-37629cc4ed34",
   "metadata": {},
   "source": [
    "\n",
    "Q4. What is ‘DataFrame’ in pandas and how is it different from pandas.series? Explain with an example\n",
    "\n",
    "A DataFrame in Pandas is a two-dimensional labeled data structure, similar to a spreadsheet or a SQL table. It is the primary data structure in Pandas and is used for storing and manipulating tabular data. A DataFrame consists of rows and columns, where each column can have a different data type.\n",
    "\n",
    "On the other hand, a Pandas Series is a one-dimensional labeled data structure, similar to a column in a DataFrame. A Series can be thought of as a single column of a DataFrame, with a unique index associated with each element.\n",
    "\n",
    "Here's an example to illustrate the difference between a DataFrame and a Series:\n",
    "\n",
    "```python\n",
    "import pandas as pd\n",
    "\n",
    "# Creating a DataFrame\n",
    "data = {\n",
    "    'Name': ['John', 'Jane', 'Bob', 'Alice'],\n",
    "    'Age': [25, 30, 35, 40],[8]\n",
    "    'City': ['New York', 'London', 'Paris', 'Tokyo']\n",
    "}\n",
    "df = pd.DataFrame(data)\n",
    "print(df)\n",
    "\"\"\"\n",
    "   Name  Age       City\n",
    "0  John   25  New York\n",
    "1  Jane   30    London\n",
    "2   Bob   35     Paris\n",
    "3 Alice   40    Tokyo\n",
    "\"\"\"\n",
    "\n",
    "# Creating a Series\n",
    "age_series = df['Age']\n",
    "print(age_series)\n",
    "\"\"\"\n",
    "0    25\n",
    "1    30\n",
    "2    35\n",
    "3    40\n",
    "Name: Age, dtype: int64\n",
    "\"\"\"\n",
    "```\n",
    "\n",
    "In this example, we first create a DataFrame `df` with three columns: 'Name', 'Age', and 'City'. Each column has a different data type, and the DataFrame has four rows.\n",
    "\n",
    "We then create a Series `age_series` by selecting the 'Age' column from the DataFrame. The Series has a single dimension, with the age values and their corresponding indices.\n",
    "\n",
    "The key differences between a DataFrame and a Series are:\n",
    "\n",
    "1. **Dimensionality**: A DataFrame is a two-dimensional data structure, while a Series is one-dimensional.\n",
    "2. **Structure**: A DataFrame has rows and columns, while a Series has only a single column.\n",
    "3. **Heterogeneity**: A DataFrame can have columns with different data types, while a Series can only have a single data type.\n",
    "4. **Indexing**: Both DataFrames and Series have an index, but a DataFrame has a row index and a column index, while a Series has only a row index."
   ]
  },
  {
   "cell_type": "markdown",
   "id": "1a76f22a-0058-434e-966f-78045fdb9ad5",
   "metadata": {},
   "source": [
    "5.What are some common functions you can use to manipulate data in a Pandas DataFrame? Can\n",
    "you give an example of when you might use one of these functions\n",
    "\n",
    "Pandas provides a wide range of functions and methods that can be used to manipulate data in a DataFrame. Here are some common functions you can use:\n",
    "\n",
    "1. **`head()`** and **`tail()`**: These functions allow you to view the first or last few rows of a DataFrame, respectively. This is useful for quickly inspecting the data.\n",
    "\n",
    "2. **`describe()`**: This function generates descriptive statistics for the numeric columns in a DataFrame, such as the count, mean, standard deviation, and quartiles.\n",
    "\n",
    "3. **`dropna()`**: This function removes rows or columns with missing values (NaN) from the DataFrame.\n",
    "\n",
    "4. **`fillna()`**: This function replaces missing values in the DataFrame with a specified value or a computed value (e.g., the mean or median).\n",
    "\n",
    "5. **`groupby()`**: This function allows you to group the DataFrame by one or more columns and perform aggregations, such as sum, mean, or count, on the grouped data.\n",
    "\n",
    "6. **`sort_values()`**: This function sorts the DataFrame by one or more columns in ascending or descending order.\n",
    "\n",
    "7. **`apply()`**: This function applies a function (either a built-in function or a custom function) to each element or group of elements in the DataFrame.\n",
    "\n",
    "8. **`merge()`** and **`concat()`**: These functions allow you to combine multiple DataFrames based on common columns or indices.\n",
    "\n",
    "Here's an example of using the `groupby()` function to calculate the average age for each city in the DataFrame we created earlier:\n",
    "\n",
    "```python\n",
    "import pandas as pd\n",
    "\n",
    "# Creating a DataFrame\n",
    "data = {\n",
    "    'Name': ['John', 'Jane', 'Bob', 'Alice'],\n",
    "    'Age': [25, 30, 35, 40],\n",
    "    'City': ['New York', 'London', 'Paris', 'Tokyo']\n",
    "}\n",
    "df = pd.DataFrame(data)\n",
    "\n",
    "# Grouping the DataFrame by 'City' and calculating the average age\n",
    "avg_age_by_city = df.groupby('City')['Age'].mean()\n",
    "print(avg_age_by_city)\n",
    "\"\"\"\n",
    "City\n",
    "London     30.0\n",
    "New York   25.0\n",
    "Paris      35.0\n",
    "Tokyo      40.0\n",
    "Name: Age, dtype: float64\n",
    "\"\"\"\n",
    "```\n",
    "\n",
    "In this example, we use the `groupby()` function to group the DataFrame by the 'City' column, and then we calculate the mean of the 'Age' column for each group using the `mean()` function. This allows us to quickly see the average age for each city in the dataset.\n",
    "\n",
    "The `groupby()` function is a powerful tool for aggregating and summarizing data in a DataFrame. It can be used in a wide range of data analysis and reporting tasks, such as calculating sales figures by region, finding the top-selling products by category, or identifying the most active users in a social network"
   ]
  },
  {
   "cell_type": "markdown",
   "id": "036882e5-da34-441c-9c91-75eb1e2596ed",
   "metadata": {},
   "source": [
    "6. Which of the following is mutable in nature Series, DataFrame, Panel\n",
    "\n",
    "\n",
    "Both the Series and the DataFrame are mutable, meaning you can modify their contents after they have been created. However, the Panel data structure is considered immutable in nature.\n",
    "\n",
    "The key difference between a Series and a DataFrame is that a Series is a 1-dimensional labeled data structure, while a DataFrame is a 2-dimensional labeled data structure. Both of these data structures can be modified, such as adding or removing rows or columns, changing the values of existing elements, or even changing the data types of the columns."
   ]
  },
  {
   "cell_type": "code",
   "execution_count": 8,
   "id": "56115a3a-d8e5-400e-8937-9a3ea37a87b5",
   "metadata": {},
   "outputs": [
    {
     "name": "stdout",
     "output_type": "stream",
     "text": [
      "    Name  Age      City\n",
      "0   John   25  New York\n",
      "1   Jane   30    London\n",
      "2    Bob   35     Paris\n",
      "3  Alice   40     Tokyo\n"
     ]
    }
   ],
   "source": [
    "#7. Create a DataFrame using multiple Series. Explain with an example.\n",
    "\n",
    "name = pd.Series(['John', 'Jane', 'Bob', 'Alice'])\n",
    "age = pd.Series([25, 30, 35, 40])\n",
    "city = pd.Series(['New York', 'London', 'Paris', 'Tokyo'])\n",
    "\n",
    "data = {'Name' : name, 'Age': age, 'City': city}\n",
    "\n",
    "df = pd.DataFrame(data)\n",
    "print(df)"
   ]
  },
  {
   "cell_type": "code",
   "execution_count": null,
   "id": "7788090e-be8f-44a0-85e7-ab6eb5cd1070",
   "metadata": {},
   "outputs": [],
   "source": []
  }
 ],
 "metadata": {
  "kernelspec": {
   "display_name": "Python 3 (ipykernel)",
   "language": "python",
   "name": "python3"
  },
  "language_info": {
   "codemirror_mode": {
    "name": "ipython",
    "version": 3
   },
   "file_extension": ".py",
   "mimetype": "text/x-python",
   "name": "python",
   "nbconvert_exporter": "python",
   "pygments_lexer": "ipython3",
   "version": "3.10.8"
  }
 },
 "nbformat": 4,
 "nbformat_minor": 5
}
