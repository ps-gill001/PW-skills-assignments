{
 "cells": [
  {
   "cell_type": "code",
   "execution_count": null,
   "id": "9d93f00c-ddc6-4602-85c7-f8a885b5c7be",
   "metadata": {},
   "outputs": [],
   "source": [
    "#Q1. Sorting a List of Tuples Based on Integer Value\n",
    "\n",
    "# Given list of tuples\n",
    "players = [('Sachin Tendulkar', 34357), ('Ricky Ponting', 27483), ('Jack Kallis', 25534), ('Virat Kohli', 24936)]\n",
    "\n",
    "# Sorting the list of tuples based on the integer value using a lambda function\n",
    "sorted_players = sorted(players, key=lambda x: x[1])\n",
    "\n",
    "print(sorted_players)\n",
    "# Output: [('Virat Kohli', 24936), ('Jack Kallis', 25534), ('Ricky Ponting', 27483), ('Sachin Tendulkar', 34357)]\n"
   ]
  },
  {
   "cell_type": "code",
   "execution_count": null,
   "id": "4728fac6-a09e-45ec-a7dd-0ed9c99e8898",
   "metadata": {},
   "outputs": [],
   "source": [
    "#Q2. Finding Squares of All Numbers in a List Using Lambda and Map\n",
    "\n",
    "# Given list of integers\n",
    "numbers = [1, 2, 3, 4, 5, 6, 7, 8, 9, 10]\n",
    "\n",
    "# Finding squares using lambda and map functions\n",
    "squares = list(map(lambda x: x**2, numbers))\n",
    "\n",
    "print(squares)\n",
    "# Output: [1, 4, 9, 16, 25, 36, 49, 64, 81, 100]\n"
   ]
  },
  {
   "cell_type": "code",
   "execution_count": null,
   "id": "28f91f95-67ba-4967-b002-8712e89cb721",
   "metadata": {},
   "outputs": [],
   "source": [
    "#Q3. Converting List of Integers to Tuple of Strings Using Map and Lambda\n",
    "\n",
    "# Given list of integers\n",
    "numbers = [1, 2, 3, 4, 5, 6, 7, 8, 9, 10]\n",
    "\n",
    "# Converting list of integers to tuple of strings using map and lambda functions\n",
    "strings = tuple(map(lambda x: str(x), numbers))\n",
    "\n",
    "print(strings)\n",
    "# Output: ('1', '2', '3', '4', '5', '6', '7', '8', '9', '10')\n"
   ]
  },
  {
   "cell_type": "code",
   "execution_count": null,
   "id": "1b9e9d61-a88a-4de2-9607-50000d461c2d",
   "metadata": {},
   "outputs": [],
   "source": [
    "#Q4. Computing the Product of a List Using Reduce\n",
    "\n",
    "from functools import reduce\n",
    "\n",
    "# List of numbers from 1 to 25\n",
    "numbers = list(range(1, 26))\n",
    "\n",
    "# Computing the product using reduce function\n",
    "product = reduce(lambda x, y: x * y, numbers)\n",
    "\n",
    "print(product)\n",
    "# Output: 15511210043330985984000000 (the product of numbers from 1 to 25)\n"
   ]
  },
  {
   "cell_type": "code",
   "execution_count": null,
   "id": "7aa9e1e7-9a60-4844-9cbd-09ce591e7cd8",
   "metadata": {},
   "outputs": [],
   "source": [
    "#Q5. Filtering Numbers Divisible by 2 and 3 Using Filter\n",
    "\n",
    "# Given list of numbers\n",
    "numbers = [2, 3, 6, 9, 27, 60, 90, 120, 55, 46]\n",
    "\n",
    "# Filtering numbers divisible by 2 and 3 using filter and lambda functions\n",
    "filtered_numbers = list(filter(lambda x: x % 2 == 0 and x % 3 == 0, numbers))\n",
    "\n",
    "print(filtered_numbers)\n",
    "# Output: [6, 60, 90, 120]\n"
   ]
  },
  {
   "cell_type": "code",
   "execution_count": null,
   "id": "44d1fb30-2ac0-425b-9fa8-d0a94a34a442",
   "metadata": {},
   "outputs": [],
   "source": [
    "#Q6. Finding Palindromes in a List of Strings Using Lambda and Filter\n",
    "\n",
    "# Given list of strings\n",
    "words = ['python', 'php', 'aba', 'radar', 'level']\n",
    "\n",
    "# Finding palindromes using filter and lambda functions\n",
    "palindromes = list(filter(lambda x: x == x[::-1], words))\n",
    "\n",
    "print(palindromes)\n",
    "# Output: ['php', 'aba', 'radar', 'level']\n"
   ]
  }
 ],
 "metadata": {
  "kernelspec": {
   "display_name": "Python 3 (ipykernel)",
   "language": "python",
   "name": "python3"
  },
  "language_info": {
   "codemirror_mode": {
    "name": "ipython",
    "version": 3
   },
   "file_extension": ".py",
   "mimetype": "text/x-python",
   "name": "python",
   "nbconvert_exporter": "python",
   "pygments_lexer": "ipython3",
   "version": "3.10.8"
  }
 },
 "nbformat": 4,
 "nbformat_minor": 5
}
