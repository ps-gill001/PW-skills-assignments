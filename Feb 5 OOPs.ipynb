{
 "cells": [
  {
   "cell_type": "markdown",
   "id": "bd59e467-cc9c-4093-b587-c3db376ce279",
   "metadata": {},
   "source": [
    "Q1. Explain Class and Object with respect to Object-Oriented Programming. Give a suitable example.\n",
    "\n"
   ]
  },
  {
   "cell_type": "markdown",
   "id": "0dff8fa9-132d-49ac-b206-543f15938e60",
   "metadata": {},
   "source": [
    "A class is a user-defined blueprint or prototype from which objects are created. Classes provide a means of bundling data and functionality together. Creating a new class creates a new type of object, allowing new instances of that type to be made. Each class instance can have attributes attached to it for maintaining its state. Class instances can also have methods (defined by their class) for modifying their state.\n",
    "\n",
    "An Object is an instance of a Class. A class is like a blueprint while an instance is a copy of the class with actual values. It’s not an idea anymore, it’s an actual dog, like a dog of breed pug who’s seven years old. You can have many dogs to create many different instances, but without the class as a guide, you would be lost, not knowing what information is required.\n",
    "\n",
    "An object consists of:\n",
    "\n",
    "State: It is represented by the attributes of an object. It also reflects the properties of an object.\n",
    "Behavior: It is represented by the methods of an object. It also reflects the response of an object to other objects.\n",
    "Identity: It gives a unique name to an object and enables one object to interact with other objects."
   ]
  },
  {
   "cell_type": "code",
   "execution_count": null,
   "id": "14457ce3-5b52-4dfe-8081-025e7395edc9",
   "metadata": {},
   "outputs": [],
   "source": [
    "class Dog:\n",
    "\n",
    "    # A simple class\n",
    "    # attribute\n",
    "    attr1 = \"mammal\"\n",
    "    attr2 = \"dog\"\n",
    "\n",
    "    # A sample method\n",
    "    def fun(self):\n",
    "        print(\"I'm a\", self.attr1)\n",
    "        print(\"I'm a\", self.attr2)\n",
    "\n",
    "\n",
    "# Driver code\n",
    "# Object instantiation\n",
    "Rodger = Dog()\n",
    "\n",
    "# Accessing class attributes\n",
    "# and method through objects\n",
    "print(Rodger.attr1)\n",
    "Rodger.fun()"
   ]
  },
  {
   "cell_type": "markdown",
   "id": "5ebb3ac0-2c64-4c23-a0df-2fd560851d71",
   "metadata": {},
   "source": [
    "Name the four pillars of OOPs"
   ]
  },
  {
   "cell_type": "markdown",
   "id": "6823dbd0-da05-46d8-a593-29389a1e67cd",
   "metadata": {},
   "source": [
    "the four pillar of oops are:\n",
    "1.Inheritance\n",
    "2.Polymorphism\n",
    "3.Abstraction\n",
    "4.Encapsulation\n",
    "\n",
    "1. Encapsulation:\n",
    "   - Encapsulation is the process of binding data (attributes) and methods into a single unit called a class.\n",
    "   - It helps to hide the internal implementation details of an object from the outside world, providing data abstraction.\n",
    "\n",
    "2. Abstraction:\n",
    "   - Abstraction is the process of focusing on the essential features of an object and ignoring the irrelevant details.\n",
    "   - It allows you to create a simplified model of a complex system, making it easier to understand and work with.\n",
    "\n",
    "3. Inheritance:\n",
    "   - Inheritance is the mechanism by which a new class (called the derived or child class) is created based on an existing class (called the base or parent class).\n",
    "   - It allows the child class to inherit the properties and behaviors of the parent class, promoting code reuse and hierarchical classification.\n",
    "\n",
    "4. Polymorphism:\n",
    "   - Polymorphism is the ability of an object to take on multiple forms or shapes.\n",
    "   - It allows objects of different classes to be treated as objects of a common superclass, enabling flexibility and extensibility in code.\n",
    "\n",
    "These four pillars - encapsulation, abstraction, inheritance, and polymorphism - are the fundamental concepts that define the object-oriented programming paradigm and are essential for designing and implementing robust, scalable, and maintainable software systems"
   ]
  },
  {
   "cell_type": "markdown",
   "id": "43c28b07-54cb-46d7-8ede-6d70cabb27c4",
   "metadata": {},
   "source": [
    "Q3. Explain why the __init__() function is used. Give a suitable example."
   ]
  },
  {
   "cell_type": "markdown",
   "id": "19ce225b-dcfc-4e50-b86a-34ecd622de6f",
   "metadata": {},
   "source": [
    "The `__init__()` function, also known as the constructor, is a special method in object-oriented programming (OOP) that is used to initialize the attributes of an object when it is created. It is automatically called when an object of a class is instantiated.\n",
    "\n",
    "The primary purpose of the `__init__()` function is to set the initial state of an object by assigning values to its attributes. This ensures that the object is properly initialized and ready to be used.\n"
   ]
  },
  {
   "cell_type": "markdown",
   "id": "6a32ddcf-c122-400a-adf6-5239ea348d7b",
   "metadata": {},
   "source": [
    "Why self is used in OOPs?"
   ]
  },
  {
   "cell_type": "markdown",
   "id": "27fb2767-50bc-482d-aaaf-61e8ec8b9e5f",
   "metadata": {},
   "source": [
    "In object-oriented programming (OOP), the `self` keyword is used to refer to the current instance of a class. It is a convention in Python, where `self` is the most commonly used name, but you can use any other name as long as it is consistent throughout your code.\n",
    "\n",
    "The primary reasons for using `self` in OOP are:\n",
    "\n",
    "1. **Accessing and Modifying Instance Attributes**: The `self` keyword allows you to access and modify the attributes (variables) of the current object.[4] This is essential for encapsulation, as it allows you to hide the internal implementation details of an object and provide a controlled interface for interacting with its data.\n",
    "\n",
    "2. **Calling Instance Methods**: The `self` keyword is used to call methods (functions) defined within the class. It allows the method to access and manipulate the object's attributes and perform the necessary operations.\n",
    "\n",
    "3. **Maintaining Consistency**: Using `self` as the first parameter in class methods helps maintain consistency and readability in your code. It makes it clear that the method is associated with the current instance of the class.\n",
    "\n",
    "4. **Polymorphism and Inheritance**: The `self` keyword is important for enabling polymorphism and inheritance in OOP. It allows methods in a derived class to access and modify the attributes of the base class, enabling code reuse and the implementation of different behaviors for the same method.\n",
    "\n",
    "Here's an example to illustrate the use of `self`:\n",
    "```python\n",
    "class Car:\n",
    "    def __init__(self, make, model):\n",
    "        self.make = make\n",
    "        self.model = model\n",
    "\n",
    "    def start(self):\n",
    "        print(f\"Starting the {self.make} {self.model}.\")\n",
    "\n",
    "# Create a new Car object[15]\n",
    "my_car = Car(\"Toyota\", \"Corolla\")\n",
    "my_car.start()  # Output: Starting the Toyota Corolla.[16]\n",
    "```\n",
    "\n",
    "In the above example, the `self` keyword is used to access the `make` and `model` attributes of the `Car` object within the `start()` method. This allows the method to use the specific values associated with the current instance of the `Car` class.\n",
    "\n",
    "Using `self` is a fundamental concept in OOP, as it enables the encapsulation of data, the implementation of instance-specific behavior, and the ability to leverage inheritance and polymorphism effectively"
   ]
  },
  {
   "cell_type": "markdown",
   "id": "8f283b96-6ea2-41ab-acbe-c211da9d2fea",
   "metadata": {},
   "source": [
    "Q5. What is inheritance? Give an example for each type of inheritance."
   ]
  },
  {
   "cell_type": "markdown",
   "id": "72f31cb1-26f4-4614-b8c6-cf750c30e51b",
   "metadata": {},
   "source": [
    "Inheritance is a fundamental concept in object-oriented programming (OOP) that allows a new class to be based on an existing class. The new class inherits the attributes (variables) and methods (functions) from the existing class, which is known as the base or parent class. The new class is called the derived or child class.\n",
    "\n",
    "There are several types of inheritance in OOP:\n",
    "\n",
    "1. **Single Inheritance**:\n",
    "   - In single inheritance, a derived class inherits from a single base class.\n",
    "   - Example:\n",
    "     ```python\n",
    "     class Animal:\n",
    "         def make_sound(self):\n",
    "             print(\"The animal makes a sound.\")\n",
    "\n",
    "     class Dog(Animal):\n",
    "         def bark(self):\n",
    "             print(\"The dog barks.\")\n",
    "     ```\n",
    "     In this example, the `Dog` class inherits from the `Animal` class, allowing a `Dog` object to use both the `make_sound()` and `bark()` methods.\n",
    "\n",
    "2. **Multiple Inheritance**:\n",
    "   - In multiple inheritance, a derived class inherits from multiple base classes.\n",
    "   - Example:\n",
    "     ```python\n",
    "     class Flyer:\n",
    "         def fly(self):\n",
    "             print(\"The animal can fly.\")\n",
    "\n",
    "     class Swimmer:\n",
    "         def swim(self):\n",
    "             print(\"The animal can swim.\")\n",
    "\n",
    "     class Penguin(Flyer, Swimmer):\n",
    "         def __init__(self, name):\n",
    "             self.name = name\n",
    "     ```\n",
    "     In this example, the `Penguin` class inherits from both the `Flyer` and `Swimmer` classes, allowing a `Penguin` object to use the `fly()`, `swim()`, and any other methods defined in the `Penguin` class.\n",
    "\n",
    "3. **Hierarchical Inheritance**:\n",
    "   - In hierarchical inheritance, multiple derived classes inherit from a single base class.\n",
    "   - Example:\n",
    "     ```python\n",
    "     class Animal:\n",
    "         def make_sound(self):\n",
    "             print(\"The animal makes a sound.\")\n",
    "\n",
    "     class Dog(Animal):\n",
    "         def bark(self):\n",
    "             print(\"The dog barks.\")\n",
    "\n",
    "     class Cat(Animal):\n",
    "         def meow(self):\n",
    "             print(\"The cat meows.\")\n",
    "     ```\n",
    "     In this example, both the `Dog` and `Cat` classes inherit from the `Animal` class, allowing each derived class to have its own specific methods (`bark()` and `meow()`) while also inheriting the `make_sound()` method from the base `Animal` class.\n",
    "\n",
    "4. **Multilevel Inheritance**:\n",
    "   - In multilevel inheritance, a derived class is based on another derived class, creating a hierarchy of inheritance.\n",
    "   - Example:\n",
    "     ```python\n",
    "     class GrandParent:\n",
    "         def family_name(self):\n",
    "             print(\"The family name is Smith.\")\n",
    "\n",
    "     class Parent(GrandParent):\n",
    "         def parent_method(self):\n",
    "             print(\"This is the parent method.\")\n",
    "     class Child(Parent):\n",
    "         def child_method(self):\n",
    "             print(\"This is the child method.\")\n",
    "     ```\n",
    "     In this example, the `Child` class inherits from the `Parent` class, which in turn inherits from the `GrandParent` class. This allows a `Child` object to access methods from all three levels of the inheritance hierarchy.\n",
    "\n",
    "Inheritance is a powerful feature of OOP that promotes code reuse, modularity, and the creation of hierarchical relationships between classes. It allows developers to build complex systems by leveraging the existing functionality of base classes and extending them with additional features and behaviors"
   ]
  },
  {
   "cell_type": "code",
   "execution_count": null,
   "id": "98d0838c-0562-4056-b3c8-c137707592a8",
   "metadata": {},
   "outputs": [],
   "source": []
  }
 ],
 "metadata": {
  "kernelspec": {
   "display_name": "Python 3 (ipykernel)",
   "language": "python",
   "name": "python3"
  },
  "language_info": {
   "codemirror_mode": {
    "name": "ipython",
    "version": 3
   },
   "file_extension": ".py",
   "mimetype": "text/x-python",
   "name": "python",
   "nbconvert_exporter": "python",
   "pygments_lexer": "ipython3",
   "version": "3.10.8"
  }
 },
 "nbformat": 4,
 "nbformat_minor": 5
}
